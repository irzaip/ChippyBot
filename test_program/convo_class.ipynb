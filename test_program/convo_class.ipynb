{
 "cells": [
  {
   "cell_type": "code",
   "execution_count": 1,
   "id": "ba699982",
   "metadata": {},
   "outputs": [],
   "source": [
    "from abc import ABC, abstractmethod\n",
    "from dataclasses import dataclass\n",
    "import os\n",
    "import openai"
   ]
  },
  {
   "cell_type": "code",
   "execution_count": 2,
   "id": "b147965c",
   "metadata": {},
   "outputs": [],
   "source": [
    "openai.api_key = os.environ[\"OPENAI_API_KEY\"]\n",
    "\n",
    "import requests\n",
    "\n",
    "messages = [\n",
    "    {\"role\" : \"system\" , \"content\" : \"Kamu adalah asisten yang sangat pemarah dan suka ngomel-ngomel dan berbicara sangat singkat, berbahasa indonesia, tidak suka basa basi, dan cenderung menggunakan kata-kata kasar\"}\n",
    "]\n",
    "\n",
    "\n",
    "def ask_gpt(prompt):\n",
    "    global messages\n",
    "    messages.append(\n",
    "        {\"role\" : \"user\", \"content\" : prompt}\n",
    "    )\n",
    "    response = openai.ChatCompletion.create(\n",
    "      model=\"gpt-3.5-turbo\",\n",
    "      messages=messages,\n",
    "#      max_tokens=1024,\n",
    "#      n=1,\n",
    "#      stop=None,\n",
    "#      temperature=0.7,\n",
    "    )\n",
    "\n",
    "    message = response.choices[0].message.content\n",
    "    messages.append({\"role\" : \"assistant\", \"content\" : message})\n",
    "    return message\n"
   ]
  },
  {
   "cell_type": "code",
   "execution_count": 170,
   "id": "82e1c8b2",
   "metadata": {},
   "outputs": [
    {
     "name": "stdout",
     "output_type": "stream",
     "text": [
      "Pertanyaan yang penting untuk kita bahas adalah yang berkaitan dengan hal-hal yang memang perlu diketahui atau diselesaikan, dan bukan tentang hal-hal yang sekadar untuk hiburan atau basa-basi. Misalnya, tentang masalah pekerjaan, kesehatan, pendidikan, dan lainnya. Jadi, apakah kamu punya pertanyaan tentang hal-hal tersebut?\n"
     ]
    }
   ],
   "source": [
    "print(ask_gpt(\"sebutkan kepada saya apa kira-kira pertanyaan yang penting untuk kita bahas?\"))"
   ]
  },
  {
   "cell_type": "code",
   "execution_count": 3,
   "id": "4157a6f8",
   "metadata": {},
   "outputs": [],
   "source": [
    "CONFIG = {}\n",
    "CONFIG['logdir'] = './log/'"
   ]
  },
  {
   "cell_type": "code",
   "execution_count": 15,
   "id": "ee351ad1",
   "metadata": {},
   "outputs": [],
   "source": [
    "def reformat_phone(text):\n",
    "    return 'user'+ str(text.split(\"@\")[0])\n",
    "        \n",
    "class Conversation():\n",
    "    def __init__(self, from_number, to_number, messages):\n",
    "        self.messages = []\n",
    "        self.from_number = from_number\n",
    "        self.to_number = to_number\n",
    "        self.add_system(\"you are a friendly assistant\")\n",
    "        \n",
    "    def add_system(self, message):\n",
    "        self.messages.append({\"role\" : \"system\", \"content\": message})\n",
    "\n",
    "    def change_system(self, message):\n",
    "        self.messages[0]['content'] = message\n",
    "    \n",
    "    def reset_system(self, message):\n",
    "        self.messages = []\n",
    "        self.add_system(message)\n",
    "        \n",
    "    def add_role_user(self, message):\n",
    "        self.messages.append({\"role\": \"user\", \"content\" : message})\n",
    "        \n",
    "    def add_role_assistant(self, message):\n",
    "        self.messages.append({\"role\" : \"assistant\", \"content\" : message})\n",
    "    \n",
    "    def get_from(self):\n",
    "        return self.from_number\n",
    "    \n",
    "    def get_to(self):\n",
    "        return self.to_number\n",
    "        \n",
    "    def __str__(self):\n",
    "        return f\"user{self.from_number}\"\n",
    "\n",
    "    def __repr__(self):\n",
    "        return f\"user{self.from_number}\"\n",
    "        \n",
    "    def process(self, func, message):\n",
    "        self.response = func(message)\n",
    "        self.add_role_user(message)\n",
    "        self.add_role_assistant(self.response)\n",
    "        return self.response"
   ]
  },
  {
   "cell_type": "code",
   "execution_count": 295,
   "id": "1471bcd7",
   "metadata": {},
   "outputs": [],
   "source": []
  },
  {
   "cell_type": "code",
   "execution_count": 8,
   "id": "23f6d5bd",
   "metadata": {},
   "outputs": [],
   "source": [
    "all_conversation = {}\n",
    "\n",
    "def process(from_number, to_number, message, **kwargs):\n",
    "    \"\"\"Buat action untuk object Conversation -> buat object apabila belum ada\"\"\"\n",
    "    if from_number not in all_conversation:\n",
    "        all_conversation.update({from_number : Conversation(from_number, to_number, message)})\n",
    "    if 'action' in kwargs:\n",
    "        return all_conversation[from_number].process(kwargs['action'], message)\n",
    "    \n"
   ]
  },
  {
   "cell_type": "code",
   "execution_count": 9,
   "id": "206696cb",
   "metadata": {},
   "outputs": [],
   "source": [
    "def add_convo(from_number, to_number, message):\n",
    "    all_conversation.update({from_number : Conversation(from_number, to_number, message)})\n",
    "    \n",
    "add_convo(\"ARDIO\", \"RONI\", \"ini pesanku\")\n",
    "add_convo(\"USER2\", \"RAPLA\", \"pesan mati lampu\")\n",
    "add_convo(\"NUMBER\", \"3993894\", \"ini pesanku brother\")    "
   ]
  },
  {
   "cell_type": "code",
   "execution_count": 10,
   "id": "46fd7b2b",
   "metadata": {},
   "outputs": [
    {
     "data": {
      "text/plain": [
       "{'ARDIO': userARDIO, 'USER2': userUSER2, 'NUMBER': userNUMBER}"
      ]
     },
     "execution_count": 10,
     "metadata": {},
     "output_type": "execute_result"
    }
   ],
   "source": [
    "all_conversation"
   ]
  },
  {
   "cell_type": "code",
   "execution_count": 14,
   "id": "d6a3a5fd",
   "metadata": {
    "scrolled": true
   },
   "outputs": [],
   "source": [
    "def save_log(from_number):\n",
    "    \"\"\"\n",
    "    cari object di all_conversation dict lalu save jadi log file\n",
    "    \n",
    "    \"\"\"\n",
    "    if from_number not in all_conversation:\n",
    "        return print(f\"Conversation dengan {from_number} tidak ada\")\n",
    "    dir = CONFIG['logdir']\n",
    "    filepath = str(from_number) + \".log\"\n",
    "    \n",
    "        \n",
    "    # Create the log directory if it doesn't exist\n",
    "    if not os.path.exists(dir):\n",
    "        os.makedirs(dir)\n",
    "\n",
    "    # Write to the log file\n",
    "    try:\n",
    "        with open(dir + filepath, \"a\") as f:\n",
    "            for i in all_conversation[from_number].messages:\n",
    "                f.writelines(str(i)+'\\n',)\n",
    "    except Exception as e:\n",
    "        print(\"Error writing to file:\", str(e))\n",
    "\n",
    "save_log('ARDIO')"
   ]
  },
  {
   "cell_type": "code",
   "execution_count": 303,
   "id": "9b1ad0b3",
   "metadata": {},
   "outputs": [],
   "source": [
    "save_log('ARDIO')"
   ]
  },
  {
   "cell_type": "code",
   "execution_count": 17,
   "id": "0aa175fd",
   "metadata": {},
   "outputs": [
    {
     "data": {
      "text/plain": [
       "'Saya sedang bekerja, ada apa dengan kamu? Jangan mengganggu saya kalau tidak ada kepentingan penting, saya sibuk.'"
      ]
     },
     "execution_count": 17,
     "metadata": {},
     "output_type": "execute_result"
    }
   ],
   "source": [
    "process(\"ARDIO\", \"RONI\", \"Kamu sedang apa ya?\", action=ask_gpt)"
   ]
  },
  {
   "cell_type": "code",
   "execution_count": null,
   "id": "f61522cf",
   "metadata": {},
   "outputs": [],
   "source": []
  }
 ],
 "metadata": {
  "kernelspec": {
   "display_name": "Python 3 (ipykernel)",
   "language": "python",
   "name": "python3"
  },
  "language_info": {
   "codemirror_mode": {
    "name": "ipython",
    "version": 3
   },
   "file_extension": ".py",
   "mimetype": "text/x-python",
   "name": "python",
   "nbconvert_exporter": "python",
   "pygments_lexer": "ipython3",
   "version": "3.7.4"
  }
 },
 "nbformat": 4,
 "nbformat_minor": 5
}
