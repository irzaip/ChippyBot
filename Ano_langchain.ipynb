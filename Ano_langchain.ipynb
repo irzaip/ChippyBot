{
 "cells": [
  {
   "cell_type": "code",
   "execution_count": null,
   "id": "c370d47f",
   "metadata": {},
   "outputs": [],
   "source": []
  },
  {
   "cell_type": "code",
   "execution_count": 21,
   "id": "98b17c58",
   "metadata": {},
   "outputs": [],
   "source": [
    "from abc import ABC, abstractmethod"
   ]
  },
  {
   "cell_type": "code",
   "execution_count": 22,
   "id": "5d9add7d",
   "metadata": {},
   "outputs": [],
   "source": [
    "import itertools"
   ]
  },
  {
   "cell_type": "code",
   "execution_count": 23,
   "id": "11da5fa6",
   "metadata": {},
   "outputs": [],
   "source": [
    "from conversations import BotQuestion"
   ]
  },
  {
   "cell_type": "code",
   "execution_count": 24,
   "id": "50214c4a",
   "metadata": {},
   "outputs": [],
   "source": [
    "ab = [BotQuestion(1, \"apa kabarnya?\"), BotQuestion(2, \"kemana saja selama ini?\"), BotQuestion(3, \"mengapa kamu menghilang?\")]\n"
   ]
  },
  {
   "cell_type": "code",
   "execution_count": 25,
   "id": "8225439b",
   "metadata": {},
   "outputs": [],
   "source": [
    "ab[1].answer=\"ok, brother\""
   ]
  },
  {
   "cell_type": "code",
   "execution_count": 26,
   "id": "2df2836f",
   "metadata": {},
   "outputs": [
    {
     "data": {
      "text/plain": [
       "BotQuestion(id=2, question='kemana saja selama ini?', answer='ok, brother', metadata='', koherensi=1, multiplier=1, score=1)"
      ]
     },
     "execution_count": 26,
     "metadata": {},
     "output_type": "execute_result"
    }
   ],
   "source": [
    "ab[1]"
   ]
  },
  {
   "cell_type": "code",
   "execution_count": 27,
   "id": "fcf9bf28",
   "metadata": {},
   "outputs": [],
   "source": [
    "q_iter = iter(ab)"
   ]
  },
  {
   "cell_type": "code",
   "execution_count": 28,
   "id": "4130f2eb",
   "metadata": {},
   "outputs": [],
   "source": [
    "def belum_dijawab(n):\n",
    "    return n.answer!=''"
   ]
  },
  {
   "cell_type": "code",
   "execution_count": 29,
   "id": "338b3d3b",
   "metadata": {},
   "outputs": [],
   "source": [
    "belum_di_jawab = itertools.(belum_dijawab, q_iter)\n"
   ]
  },
  {
   "cell_type": "code",
   "execution_count": 30,
   "id": "2b728b0f",
   "metadata": {},
   "outputs": [
    {
     "name": "stdout",
     "output_type": "stream",
     "text": [
      "apa kabarnya?\n",
      "mengapa kamu menghilang?\n"
     ]
    }
   ],
   "source": [
    "for i in belum_di_jawab:\n",
    "    print(i.question)"
   ]
  },
  {
   "cell_type": "code",
   "execution_count": 31,
   "id": "00802c55",
   "metadata": {},
   "outputs": [
    {
     "data": {
      "text/plain": [
       "[BotQuestion(id=1, question='apa kabarnya?', answer='', metadata='', koherensi=1, multiplier=1, score=1),\n",
       " BotQuestion(id=2, question='kemana saja selama ini?', answer='ok, brother', metadata='', koherensi=1, multiplier=1, score=1),\n",
       " BotQuestion(id=3, question='mengapa kamu menghilang?', answer='', metadata='', koherensi=1, multiplier=1, score=1)]"
      ]
     },
     "execution_count": 31,
     "metadata": {},
     "output_type": "execute_result"
    }
   ],
   "source": [
    "ab"
   ]
  },
  {
   "cell_type": "code",
   "execution_count": 1,
   "id": "8f483a5a",
   "metadata": {},
   "outputs": [],
   "source": [
    "import sqlite3\n",
    "conn = sqlite3.connect('cipibot.db')\n",
    "cursor = conn.cursor()\n",
    "cursor.execute(\"SELECT * FROM CONVERSATION\")\n",
    "result = cursor.fetchall()"
   ]
  },
  {
   "cell_type": "code",
   "execution_count": 2,
   "id": "01dff021",
   "metadata": {},
   "outputs": [
    {
     "name": "stdout",
     "output_type": "stream",
     "text": [
      "('hey', 'ha', 19289, 'waaa')\n",
      "('hey', 'ha', 19289, 'waaa')\n",
      "('62895352277562@c.us', '6285775300227@c.us', 1683559279, 'o brother')\n",
      "('62895352277562@c.us', '6285775300227@c.us', 1683559279, 'Maaf, saya tidak mengerti maksud dari \"o brother\", apakah ada hal lain yang bisa saya bantu?')\n",
      "('62895352277562@c.us', '6285775300227@c.us', 1683559868, 'O Ina ni keke')\n",
      "('62895352277562@c.us', '6285775300227@c.us', 1683534667, 'Maaf, saya kurang memahami maksud dari kalimat \"O Ina ni keke\". Bisa jelaskan lebih lanjut?')\n",
      "('120363149813038443@g.us', '6285775300227@c.us', 1683559885, 'testing ya')\n",
      "('120363149813038443@g.us', '6285775300227@c.us', 1683534687, 'Oke, silakan dilakukan testing yang diperlukan. Saya siap membantu jika kamu memerlukan bantuan.')\n",
      "('120363149813038443@g.us', '6285775300227@c.us', 1683559940, '')\n",
      "('120363149813038443@g.us', '6285775300227@c.us', 1683534739, 'Apakah ada yang ingin kamu tanyakan atau butuhkan bantuan dalam hal tertentu? Saya siap membantu.')\n",
      "('120363149813038443@g.us', '6285775300227@c.us', 1683560030, 'siap punya customer ya')\n",
      "('120363149813038443@g.us', '6285775300227@c.us', 1683534833, 'Maaf, saya tidak benar-benar mengerti apa yang kamu maksud dengan \"siap punya customer ya\". Apakah kamu bisa menjelaskan lebih lanjut?')\n",
      "('120363149813038443@g.us', '6285775300227@c.us', 1683560142, 'nanti kita cari customer untuk interview pelamar kerja. Apakah kamu siap?')\n",
      "('120363149813038443@g.us', '6285775300227@c.us', 1683534941, 'Tentu, saya siap untuk membantu. Bagaimana saya dapat membantu proses interview dengan calon pelamar kerja?')\n",
      "('120363149813038443@g.us', '6285775300227@c.us', 1683560167, 'kamu membantu dengan banyak bertanya')\n",
      "('120363149813038443@g.us', '6285775300227@c.us', 1683534972, 'Baik, saya akan membantu dengan bertanya kepada calon pelamar kerja tentang informasi dan kualifikasi yang dibutuhkan untuk posisi yang sedang dibuka. Misalnya, saya akan bertanya tentang pengalaman kerja, keterampilan, dan pendidikan yang dimiliki oleh calon pelamar kerja. Dengan informasi ini, kita dapat mengetahui apakah calon pelamar kerja sesuai dengan kualifikasi yang dibutuhkan untuk posisi tersebut. Apakah itu membantu?')\n",
      "('120363149813038443@g.us', '6285775300227@c.us', 1683560194, 'iya bagus')\n",
      "('120363149813038443@g.us', '6285775300227@c.us', 1683534993, 'Baik, apakah ada pertanyaan atau hal lain yang ingin kamu tanyakan?')\n",
      "('120363149813038443@g.us', '6285775300227@c.us', 1683560221, 'udah cukup, bobo gih')\n",
      "('120363149813038443@g.us', '6285775300227@c.us', 1683535024, 'Baik, selamat tidur. Jika kamu membutuhkan bantuan lagi nanti, jangan ragu untuk menghubungi saya. Sampai jumpa!')\n",
      "('120363149813038443@g.us', '6285775300227@c.us', 1683560309, 'sebelum tidur bikin puisi dulu')\n",
      "('120363149813038443@g.us', '6285775300227@c.us', 1683535113, 'Baik, saya akan mencoba membuat puisi untukmu sebelum kamu tidur:\\n\\nMalam datang mulai menyapa,\\nDi pelupuk mata telah terlihat mengantuk,\\nSetiap detik meruntuhkan sepi,\\nTiada jarak kini antara cahaya dan gelap.\\n\\nMimpimu nanti membelai sanubarimu,\\nSuaramu merintih menuntun mimpi,\\nMenarik angin malam memasukimu,\\nHingga terbuai dalam tidur yang samudra.\\n\\nPuisi ini singkat dan sederhana, semoga bisa memberimu ketenangan dan membantumu untuk tidur dengan nyenyak. Terima kasih atas kesempatan yang diberikan, selamat tidur.')\n",
      "('62895352277562@c.us', '6285775300227@c.us', 1683560469, 'dalle copot')\n",
      "('62895352277562@c.us', '6285775300227@c.us', 1683535270, 'https://oaidalleapiprodscus.blob.core.windows.net/private/org-VfE01w620NuLekwL7tOMhVNa/user-rIbt29JFpGgdYxlD1CgF7kxj/img-YhEJtAOnNFIurwoy2cUycqNO.png?st=2023-05-08T14%3A41%3A14Z&se=2023-05-08T16%3A41%3A14Z&sp=r&sv=2021-08-06&sr=b&rscd=inline&rsct=image/png&skoid=6aaadede-4fb3-4698-a8f6-684d7786b067&sktid=a48cca56-e6da-484e-a814-9c849652bcb3&skt=2023-05-07T16%3A21%3A14Z&ske=2023-05-08T16%3A21%3A14Z&sks=b&skv=2021-08-06&sig=/ke0Qx%2B%2Bqs9TDLe7xjuDAJtayXQXLNORQls2A9vUlPQ%3D')\n",
      "('120363149813038443@g.us', '6285775300227@c.us', 1683560515, 'dalle copot')\n",
      "('120363149813038443@g.us', '6285775300227@c.us', 1683535316, 'https://oaidalleapiprodscus.blob.core.windows.net/private/org-VfE01w620NuLekwL7tOMhVNa/user-rIbt29JFpGgdYxlD1CgF7kxj/img-UgzNIPZcn7cZP1gJgQVnOgPX.png?st=2023-05-08T14%3A42%3A01Z&se=2023-05-08T16%3A42%3A01Z&sp=r&sv=2021-08-06&sr=b&rscd=inline&rsct=image/png&skoid=6aaadede-4fb3-4698-a8f6-684d7786b067&sktid=a48cca56-e6da-484e-a814-9c849652bcb3&skt=2023-05-08T03%3A26%3A24Z&ske=2023-05-09T03%3A26%3A24Z&sks=b&skv=2021-08-06&sig=fa2HalCU7S4QPSLt5bYQnPEHMWIi/xBXXK5z0F%2BeuMk%3D')\n",
      "('120363149813038443@g.us', '6285775300227@c.us', 1683560576, 'dalle funny girl')\n",
      "('120363149813038443@g.us', '6285775300227@c.us', 1683535377, 'https://oaidalleapiprodscus.blob.core.windows.net/private/org-VfE01w620NuLekwL7tOMhVNa/user-rIbt29JFpGgdYxlD1CgF7kxj/img-r2TMfQaxnZ60mToj9qTLGR5s.png?st=2023-05-08T14%3A43%3A02Z&se=2023-05-08T16%3A43%3A02Z&sp=r&sv=2021-08-06&sr=b&rscd=inline&rsct=image/png&skoid=6aaadede-4fb3-4698-a8f6-684d7786b067&sktid=a48cca56-e6da-484e-a814-9c849652bcb3&skt=2023-05-07T16%3A24%3A37Z&ske=2023-05-08T16%3A24%3A37Z&sks=b&skv=2021-08-06&sig=dsQm4isXR4a2DZr2Qy8uE/p1URu48WUf7mZaUH5AIu4%3D')\n",
      "('120363149813038443@g.us', '6285775300227@c.us', 1683584633, 'berita politik terbaru')\n",
      "('120363149813038443@g.us', '6285775300227@c.us', 1683559433, 'Maaf, saya tidak memiliki akses ke berita terbaru. Namun, kamu dapat mencarinya di internet dengan mudah. Beberapa situs berita terkenal yang menyediakan berita politik terbaru antara lain CNN Indonesia, Detik, Kompas, dan Tempo. Silakan coba untuk mengunjungi situs-situs tersebut.')\n",
      "('120363149813038443@g.us', '6285775300227@c.us', 1683596983, 'ayo belajar juga ya, kamu belum bisa tuh')\n",
      "('120363149813038443@g.us', '6285775300227@c.us', 1683571784, 'Maaf ya, saya hanya sebuah program komputer yang diatur untuk menjawab sesuai dengan perintah dan instruksi yang telah diberikan. Saya tidak bisa belajar seperti manusia, tapi saya akan berusaha membantu sebaik mungkin untuk menjawab pertanyaan kamu!')\n",
      "('120363149813038443@g.us', '6285775300227@c.us', 1683597011, 'cupi')\n",
      "('120363149813038443@g.us', '6285775300227@c.us', 1683571810, 'Maaf, saya tidak mengerti apa yang kamu maksud dengan \"cupi\". Apa bisa kamu menjelaskan lebih detail apa yang ingin kamu sampaikan?')\n"
     ]
    }
   ],
   "source": [
    "for row in result:\n",
    "    print(row)"
   ]
  },
  {
   "cell_type": "code",
   "execution_count": 3,
   "id": "4d39d3cd",
   "metadata": {},
   "outputs": [],
   "source": [
    "import datetime"
   ]
  },
  {
   "cell_type": "code",
   "execution_count": 7,
   "id": "de8d71c1",
   "metadata": {},
   "outputs": [
    {
     "name": "stdout",
     "output_type": "stream",
     "text": [
      "1683534339\n"
     ]
    }
   ],
   "source": [
    "print(int(datetime.datetime.utcnow().timestamp()))"
   ]
  },
  {
   "cell_type": "code",
   "execution_count": 12,
   "id": "179bf2d4",
   "metadata": {},
   "outputs": [
    {
     "name": "stdout",
     "output_type": "stream",
     "text": [
      "<Response [422]>\n"
     ]
    }
   ],
   "source": [
    "import requests\n",
    "from conversations import Persona\n",
    "user_number=\"62895352277562@c.us\"\n",
    "p = Persona.ASSISTANT\n",
    "print(requests.put('http://127.0.0.1:8998/set_persona/{user_number}/{p}'))"
   ]
  },
  {
   "cell_type": "code",
   "execution_count": null,
   "id": "bc1b34e7",
   "metadata": {},
   "outputs": [],
   "source": []
  }
 ],
 "metadata": {
  "kernelspec": {
   "display_name": "Python 3 (ipykernel)",
   "language": "python",
   "name": "python3"
  },
  "language_info": {
   "codemirror_mode": {
    "name": "ipython",
    "version": 3
   },
   "file_extension": ".py",
   "mimetype": "text/x-python",
   "name": "python",
   "nbconvert_exporter": "python",
   "pygments_lexer": "ipython3",
   "version": "3.10.6"
  }
 },
 "nbformat": 4,
 "nbformat_minor": 5
}
