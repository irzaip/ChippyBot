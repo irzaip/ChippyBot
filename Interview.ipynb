{
 "cells": [
  {
   "cell_type": "code",
   "execution_count": 1,
   "id": "9440a7e4",
   "metadata": {},
   "outputs": [],
   "source": [
    "from pydantic import BaseModel\n",
    "from enum import Enum, auto\n",
    "from rivescript import RiveScript\n",
    "from dataclasses import dataclass\n",
    "import nltk\n",
    "import requests\n",
    "import asyncio"
   ]
  },
  {
   "cell_type": "code",
   "execution_count": 2,
   "id": "dff2c02f",
   "metadata": {},
   "outputs": [],
   "source": [
    "from conversations import Conversation, BotQuestion\n",
    "all_conversation={}"
   ]
  },
  {
   "cell_type": "code",
   "execution_count": 3,
   "id": "4fa66862",
   "metadata": {},
   "outputs": [],
   "source": [
    "def add_convo(from_number, to_number, message):\n",
    "    all_conversation.update({from_number : Conversation(from_number, to_number, message)})\n",
    "    \n",
    "add_convo(\"123\", \"NOMOR 1\", \"ini pesanku\")\n",
    "add_convo(\"234\", \"NOMOR 2\", \"pesan mati lampu\")\n",
    "add_convo(\"345\", \"NOMOR 3\", \"ini pesanku brother\")    "
   ]
  },
  {
   "cell_type": "code",
   "execution_count": 4,
   "id": "b4e4c890",
   "metadata": {
    "scrolled": true
   },
   "outputs": [
    {
     "data": {
      "text/plain": [
       "{'123': user123, '234': user234, '345': user345}"
      ]
     },
     "execution_count": 4,
     "metadata": {},
     "output_type": "execute_result"
    }
   ],
   "source": [
    "all_conversation"
   ]
  },
  {
   "cell_type": "code",
   "execution_count": 56,
   "id": "4961b538",
   "metadata": {},
   "outputs": [],
   "source": [
    "botquest = [BotQuestion(1, \"Hello brother\"), BotQuestion(2, \"apa kabarnya nih?\"), BotQuestion(3, \"hello kittun\")]"
   ]
  },
  {
   "cell_type": "code",
   "execution_count": 8,
   "id": "67c6cc0b",
   "metadata": {},
   "outputs": [],
   "source": [
    "all_conversation['123'].botquestions.extend(botquest)"
   ]
  },
  {
   "cell_type": "code",
   "execution_count": 59,
   "id": "05010c15",
   "metadata": {},
   "outputs": [
    {
     "data": {
      "text/plain": [
       "'apa kabarnya nih?'"
      ]
     },
     "execution_count": 59,
     "metadata": {},
     "output_type": "execute_result"
    }
   ],
   "source": [
    "all_conversation['123'].botquestions[1].question"
   ]
  },
  {
   "cell_type": "code",
   "execution_count": 11,
   "id": "b880fca4",
   "metadata": {},
   "outputs": [
    {
     "ename": "AttributeError",
     "evalue": "'BotQuestion' object has no attribute 'items'",
     "output_type": "error",
     "traceback": [
      "\u001b[1;31m---------------------------------------------------------------------------\u001b[0m",
      "\u001b[1;31mAttributeError\u001b[0m                            Traceback (most recent call last)",
      "\u001b[1;32m~\\AppData\\Local\\Temp/ipykernel_1780/2798950897.py\u001b[0m in \u001b[0;36m<module>\u001b[1;34m\u001b[0m\n\u001b[1;32m----> 1\u001b[1;33m \u001b[0mall_conversation\u001b[0m\u001b[1;33m[\u001b[0m\u001b[1;34m'123'\u001b[0m\u001b[1;33m]\u001b[0m\u001b[1;33m.\u001b[0m\u001b[0mprocess\u001b[0m\u001b[1;33m(\u001b[0m\u001b[1;33m(\u001b[0m\u001b[1;33m)\u001b[0m\u001b[1;33m,\u001b[0m \u001b[1;34m\"hello\"\u001b[0m\u001b[1;33m,\u001b[0m \u001b[1;34m\"hello\"\u001b[0m\u001b[1;33m)\u001b[0m\u001b[1;33m\u001b[0m\u001b[1;33m\u001b[0m\u001b[0m\n\u001b[0m",
      "\u001b[1;32mE:\\PYTHON\\ChippyBot\\conversations.py\u001b[0m in \u001b[0;36mprocess\u001b[1;34m(self, func, messages, message)\u001b[0m\n\u001b[0;32m    139\u001b[0m         \u001b[1;32mif\u001b[0m \u001b[0mConvMode\u001b[0m\u001b[1;33m.\u001b[0m\u001b[0mASK\u001b[0m\u001b[1;33m:\u001b[0m\u001b[1;33m\u001b[0m\u001b[1;33m\u001b[0m\u001b[0m\n\u001b[0;32m    140\u001b[0m             \u001b[1;32mfor\u001b[0m \u001b[0mitem\u001b[0m \u001b[1;32min\u001b[0m \u001b[0mself\u001b[0m\u001b[1;33m.\u001b[0m\u001b[0mbotquestions\u001b[0m\u001b[1;33m:\u001b[0m\u001b[1;33m\u001b[0m\u001b[1;33m\u001b[0m\u001b[0m\n\u001b[1;32m--> 141\u001b[1;33m                 \u001b[1;32mfor\u001b[0m \u001b[0mkey\u001b[0m\u001b[1;33m,\u001b[0m \u001b[0mvalue\u001b[0m \u001b[1;32min\u001b[0m \u001b[0mitem\u001b[0m\u001b[1;33m.\u001b[0m\u001b[0mitems\u001b[0m\u001b[1;33m(\u001b[0m\u001b[1;33m)\u001b[0m\u001b[1;33m:\u001b[0m\u001b[1;33m\u001b[0m\u001b[1;33m\u001b[0m\u001b[0m\n\u001b[0m\u001b[0;32m    142\u001b[0m                     \u001b[1;31m#if not value:\u001b[0m\u001b[1;33m\u001b[0m\u001b[1;33m\u001b[0m\u001b[1;33m\u001b[0m\u001b[0m\n\u001b[0;32m    143\u001b[0m                     \u001b[1;31m#    item[key] = message\u001b[0m\u001b[1;33m\u001b[0m\u001b[1;33m\u001b[0m\u001b[1;33m\u001b[0m\u001b[0m\n",
      "\u001b[1;31mAttributeError\u001b[0m: 'BotQuestion' object has no attribute 'items'"
     ]
    }
   ],
   "source": [
    "all_conversation['123'].process((), \"hello\", \"hello\")"
   ]
  },
  {
   "cell_type": "code",
   "execution_count": 15,
   "id": "8d7b6b0c",
   "metadata": {},
   "outputs": [
    {
     "ename": "AttributeError",
     "evalue": "'BotQuestion' object has no attribute 'value'",
     "output_type": "error",
     "traceback": [
      "\u001b[1;31m---------------------------------------------------------------------------\u001b[0m",
      "\u001b[1;31mAttributeError\u001b[0m                            Traceback (most recent call last)",
      "\u001b[1;32m~\\AppData\\Local\\Temp/ipykernel_1780/3723565622.py\u001b[0m in \u001b[0;36m<module>\u001b[1;34m\u001b[0m\n\u001b[0;32m      1\u001b[0m \u001b[1;32mfor\u001b[0m \u001b[0mitem\u001b[0m \u001b[1;32min\u001b[0m \u001b[0mbotquest\u001b[0m\u001b[1;33m:\u001b[0m\u001b[1;33m\u001b[0m\u001b[1;33m\u001b[0m\u001b[0m\n\u001b[1;32m----> 2\u001b[1;33m     \u001b[1;32mfor\u001b[0m \u001b[0mkey\u001b[0m\u001b[1;33m,\u001b[0m \u001b[0mvalue\u001b[0m \u001b[1;32min\u001b[0m \u001b[0mitem\u001b[0m\u001b[1;33m.\u001b[0m\u001b[0mvalue\u001b[0m\u001b[1;33m(\u001b[0m\u001b[1;33m)\u001b[0m\u001b[1;33m:\u001b[0m\u001b[1;33m\u001b[0m\u001b[1;33m\u001b[0m\u001b[0m\n\u001b[0m\u001b[0;32m      3\u001b[0m         \u001b[0mprint\u001b[0m\u001b[1;33m(\u001b[0m\u001b[0mkey\u001b[0m\u001b[1;33m,\u001b[0m\u001b[0mvalue\u001b[0m\u001b[1;33m)\u001b[0m\u001b[1;33m\u001b[0m\u001b[1;33m\u001b[0m\u001b[0m\n",
      "\u001b[1;31mAttributeError\u001b[0m: 'BotQuestion' object has no attribute 'value'"
     ]
    }
   ],
   "source": [
    "for item in botquest:\n",
    "    for key, value in item.value():\n",
    "        print(key,value)"
   ]
  },
  {
   "cell_type": "code",
   "execution_count": 55,
   "id": "a6c903b4",
   "metadata": {},
   "outputs": [
    {
     "name": "stdout",
     "output_type": "stream",
     "text": [
      "0\n"
     ]
    }
   ],
   "source": [
    "for id, botq in enumerate(botquest):\n",
    "    if not botq.answer:\n",
    "        botq.answer = \"Hello\"\n",
    "        print(f'{botq.question} responded with {botq.answer})\n",
    "        if id =< len(botquest)\n",
    "        break\n"
   ]
  },
  {
   "cell_type": "code",
   "execution_count": 33,
   "id": "f8679a20",
   "metadata": {},
   "outputs": [
    {
     "data": {
      "text/plain": [
       "[BotQuestion(id=1, question='Hello brother', answer='Hello', metadata='', koherensi=1, multiplier=1, score=1),\n",
       " BotQuestion(id=2, question='apa kabarnya nih?', answer='', metadata='', koherensi=1, multiplier=1, score=1)]"
      ]
     },
     "execution_count": 33,
     "metadata": {},
     "output_type": "execute_result"
    }
   ],
   "source": [
    "botquest"
   ]
  },
  {
   "cell_type": "code",
   "execution_count": null,
   "id": "42f5df04",
   "metadata": {},
   "outputs": [],
   "source": []
  }
 ],
 "metadata": {
  "kernelspec": {
   "display_name": "Python 3 (ipykernel)",
   "language": "python",
   "name": "python3"
  },
  "language_info": {
   "codemirror_mode": {
    "name": "ipython",
    "version": 3
   },
   "file_extension": ".py",
   "mimetype": "text/x-python",
   "name": "python",
   "nbconvert_exporter": "python",
   "pygments_lexer": "ipython3",
   "version": "3.7.4"
  }
 },
 "nbformat": 4,
 "nbformat_minor": 5
}
