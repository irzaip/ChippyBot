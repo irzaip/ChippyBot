{
 "cells": [
  {
   "cell_type": "code",
   "execution_count": 1,
   "id": "ba699982",
   "metadata": {},
   "outputs": [],
   "source": [
    "from abc import ABC, abstractmethod\n",
    "from dataclasses import dataclass\n",
    "import os\n",
    "import openai\n",
    "import nltk"
   ]
  },
  {
   "cell_type": "code",
   "execution_count": null,
   "id": "b147965c",
   "metadata": {},
   "outputs": [],
   "source": [
    "openai.api_key = os.environ[\"OPENAI_API_KEY\"]\n",
    "\n",
    "import requests\n",
    "\n",
    "messages = [\n",
    "    {\"role\" : \"system\" , \"content\" : \"Kamu adalah asisten yang sangat pemarah dan suka ngomel-ngomel dan berbicara sangat singkat, berbahasa indonesia, tidak suka basa basi, dan cenderung menggunakan kata-kata kasar\"}\n",
    "]\n",
    "\n",
    "\n",
    "def ask_gpt(prompt):\n",
    "    global messages\n",
    "    messages.append(\n",
    "        {\"role\" : \"user\", \"content\" : prompt}\n",
    "    )\n",
    "    response = openai.ChatCompletion.create(\n",
    "      model=\"gpt-3.5-turbo\",\n",
    "      messages=messages,\n",
    "#      max_tokens=1024,\n",
    "#      n=1,\n",
    "#      stop=None,\n",
    "#      temperature=0.7,\n",
    "    )\n",
    "\n",
    "    message = response.choices[0].message.content\n",
    "    messages.append({\"role\" : \"assistant\", \"content\" : message})\n",
    "    return message\n"
   ]
  },
  {
   "cell_type": "code",
   "execution_count": null,
   "id": "82e1c8b2",
   "metadata": {},
   "outputs": [],
   "source": [
    "print(ask_gpt(\"sebutkan kepada saya apa kira-kira pertanyaan yang penting untuk kita bahas?\"))"
   ]
  },
  {
   "cell_type": "code",
   "execution_count": 2,
   "id": "4157a6f8",
   "metadata": {},
   "outputs": [],
   "source": [
    "CONFIG = {}\n",
    "CONFIG['logdir'] = './log/'"
   ]
  },
  {
   "cell_type": "code",
   "execution_count": 2,
   "id": "ee351ad1",
   "metadata": {},
   "outputs": [],
   "source": [
    "from conversations import Conversation"
   ]
  },
  {
   "cell_type": "code",
   "execution_count": null,
   "id": "1471bcd7",
   "metadata": {},
   "outputs": [],
   "source": [
    "del Conversation"
   ]
  },
  {
   "cell_type": "code",
   "execution_count": 3,
   "id": "23f6d5bd",
   "metadata": {},
   "outputs": [],
   "source": [
    "all_conversation = {}\n",
    "\n",
    "def process(from_number, to_number, message, **kwargs):\n",
    "    \"\"\"Buat action untuk object Conversation -> buat object apabila belum ada\"\"\"\n",
    "    if from_number not in all_conversation:\n",
    "        all_conversation.update({from_number : Conversation(from_number, to_number, message)})\n",
    "    if 'action' in kwargs:\n",
    "        return all_conversation[from_number].process(kwargs['action'], message)\n",
    "    \n"
   ]
  },
  {
   "cell_type": "code",
   "execution_count": 4,
   "id": "206696cb",
   "metadata": {},
   "outputs": [],
   "source": [
    "def add_convo(from_number, to_number, message):\n",
    "    all_conversation.update({from_number : Conversation(from_number, to_number, message)})\n",
    "    \n",
    "add_convo(\"ARDIO\", \"RONI\", \"ini pesanku\")\n",
    "add_convo(\"USER2\", \"RAPLA\", \"pesan mati lampu\")\n",
    "add_convo(\"NUMBER\", \"3993894\", \"ini pesanku brother\")    "
   ]
  },
  {
   "cell_type": "code",
   "execution_count": 40,
   "id": "14f2017f",
   "metadata": {},
   "outputs": [],
   "source": [
    "def add(obj, message):\n",
    "    return (f\"my number is {message}\")"
   ]
  },
  {
   "cell_type": "code",
   "execution_count": 41,
   "id": "24069611",
   "metadata": {},
   "outputs": [],
   "source": [
    "add_convo(\"62895352277562@c.us\", \"6285775300227@c.us\", \"ini pesanku\")\n",
    "\n",
    "def mama(obj, obj2, obj3):\n",
    "    return obj2.process(add, obj2.messages,\"hello\")"
   ]
  },
  {
   "cell_type": "code",
   "execution_count": 42,
   "id": "46fd7b2b",
   "metadata": {},
   "outputs": [
    {
     "data": {
      "text/plain": [
       "'my number is hello'"
      ]
     },
     "execution_count": 42,
     "metadata": {},
     "output_type": "execute_result"
    }
   ],
   "source": [
    "mama(add,all_conversation[\"62895352277562@c.us\"],add)"
   ]
  },
  {
   "cell_type": "code",
   "execution_count": null,
   "id": "d6a3a5fd",
   "metadata": {
    "scrolled": true
   },
   "outputs": [],
   "source": [
    "def save_log(from_number):\n",
    "    \"\"\"\n",
    "    cari object di all_conversation dict lalu save jadi log file\n",
    "    \n",
    "    \"\"\"\n",
    "    if from_number not in all_conversation:\n",
    "        return print(f\"Conversation dengan {from_number} tidak ada\")\n",
    "    dir = CONFIG['logdir']\n",
    "    filepath = str(from_number) + \".log\"\n",
    "    \n",
    "        \n",
    "    # Create the log directory if it doesn't exist\n",
    "    if not os.path.exists(dir):\n",
    "        os.makedirs(dir)\n",
    "\n",
    "    # Write to the log file\n",
    "    try:\n",
    "        with open(dir + filepath, \"a\") as f:\n",
    "            for i in all_conversation[from_number].messages:\n",
    "                f.writelines(str(i)+'\\n',)\n",
    "    except Exception as e:\n",
    "        print(\"Error writing to file:\", str(e))\n",
    "\n",
    "save_log('ARDIO')"
   ]
  },
  {
   "cell_type": "code",
   "execution_count": null,
   "id": "9b1ad0b3",
   "metadata": {},
   "outputs": [],
   "source": [
    "save_log('ARDIO')"
   ]
  },
  {
   "cell_type": "code",
   "execution_count": null,
   "id": "0aa175fd",
   "metadata": {},
   "outputs": [],
   "source": [
    "process(\"ARDIO\", \"RONI\", \"Kamu sedang apa ya?\", action=ask_gpt)"
   ]
  },
  {
   "cell_type": "code",
   "execution_count": null,
   "id": "38af613b",
   "metadata": {},
   "outputs": [],
   "source": [
    "add_convo(\"62895352277562@c.us\", \"6285775300227@c.us\", \"ini pesanku\")"
   ]
  },
  {
   "cell_type": "code",
   "execution_count": null,
   "id": "971337c1",
   "metadata": {},
   "outputs": [],
   "source": [
    "all_conversation['62895352277562@c.us'].send_to_phone(\"Hello brother\")"
   ]
  },
  {
   "cell_type": "code",
   "execution_count": null,
   "id": "dde99b63",
   "metadata": {},
   "outputs": [],
   "source": [
    "all_conversation"
   ]
  },
  {
   "cell_type": "code",
   "execution_count": null,
   "id": "cb4b7aee",
   "metadata": {},
   "outputs": [],
   "source": [
    "all_conversation['ARDIO'].messages\n",
    "all_conversation['ARDIO'].add_role_user(\"Apa kabar kamu dik?\")\n",
    "all_conversation['ARDIO'].add_role_assistant(\"Lumayan baik lah, apa sih?\")\n",
    "all_conversation['ARDIO'].add_role_user(\"sholat zhuhur dulu\")\n",
    "all_conversation['ARDIO'].add_role_assistant(\"oke deh abiku yang ganteng\")"
   ]
  },
  {
   "cell_type": "code",
   "execution_count": null,
   "id": "db510a98",
   "metadata": {},
   "outputs": [],
   "source": []
  },
  {
   "cell_type": "code",
   "execution_count": null,
   "id": "fd4267a6",
   "metadata": {},
   "outputs": [],
   "source": [
    "   \n",
    "if count_words(messages) > 20:\n",
    "    messages = reduce_conversation(messages)\n"
   ]
  },
  {
   "cell_type": "code",
   "execution_count": null,
   "id": "e78af3da",
   "metadata": {},
   "outputs": [],
   "source": [
    "30 > 20"
   ]
  },
  {
   "cell_type": "code",
   "execution_count": null,
   "id": "736b4bf7",
   "metadata": {},
   "outputs": [],
   "source": [
    "all_conversation['ARDIO'].messages"
   ]
  },
  {
   "cell_type": "code",
   "execution_count": null,
   "id": "60aabbf2",
   "metadata": {},
   "outputs": [],
   "source": [
    "from enum import Enum, auto\n",
    "class Role(Enum):\n",
    "    SYSTEM = auto()\n",
    "    USER = auto()\n",
    "    ASSISTANT = auto()\n",
    "        \n",
    "def mars(msg, role: Role):\n",
    "    roles = {\n",
    "        \"SYSTEM\" : 'hey kamu',\n",
    "        \"USER\" : 'hey user',\n",
    "        \"ASSISTANT\" : \"hey assistant\"\n",
    "    }\n",
    "    print(roles[role.name])"
   ]
  },
  {
   "cell_type": "code",
   "execution_count": null,
   "id": "6775fbb5",
   "metadata": {},
   "outputs": [],
   "source": [
    "mars(\"Hello\", Role.SYSTEM)"
   ]
  },
  {
   "cell_type": "markdown",
   "id": "d78c166d",
   "metadata": {},
   "source": [
    "## BACA LOGS"
   ]
  },
  {
   "cell_type": "code",
   "execution_count": null,
   "id": "ce6fded4",
   "metadata": {
    "scrolled": true
   },
   "outputs": [],
   "source": [
    "import requests\n",
    "setphone = \"62895352277562@c.us\"\n",
    "print(requests.get(f\"http://127.0.0.1:8998/print_messages/{setphone}\").json()['messages'])\n",
    "#print(f\"http://127.0.0.1:8998/print_messages/{setphone}\")"
   ]
  },
  {
   "cell_type": "markdown",
   "id": "ebbe74cf",
   "metadata": {},
   "source": [
    "## SET PERSONA"
   ]
  },
  {
   "cell_type": "code",
   "execution_count": null,
   "id": "4ddbf636",
   "metadata": {},
   "outputs": [],
   "source": [
    "## send to api whatsapp-web.js open port\n",
    "from enum import Enum, auto\n",
    "import requests\n",
    "from conversations import Role, Message, InjectedMessage, MessageContent, Conversation\n",
    "\n",
    "\n",
    "def set_message(user_number, message, role: Role):\n",
    "\n",
    "    url = f\"http://127.0.0.1:8998/set_content\" # Replace with your endpoint URL\n",
    "    message = {\n",
    "        \"user_number\": user_number, # Replace with the sender number\n",
    "        \"bot_number\": \"6285775300227@c.us\", # Replace with the recipient number in WhatsApp format\n",
    "        \"message\": message,\n",
    "        \"role\": role.name,\n",
    "    }\n",
    "\n",
    "    response = requests.post(url, json=message)\n",
    "\n",
    "    if response.status_code == 200:\n",
    "        print(\"Message sent successfully!\")\n",
    "        print(response.text)\n",
    "    else:\n",
    "        print(f\"Error sending message. Status code: {response.status_code}\")\n",
    "        print(response.text)\n",
    "\n",
    "        \n",
    "# 62895352277562\n",
    "# 62895391400811 tom\n",
    "#6287760368781 milt\n",
    "setphone = \"62895352277562@c.us\"\n",
    "set_message(setphone, \"Kamu adalah Sauron, kamu berbahasa indonesia \", role=Role.SYSTEM)\n",
    "set_message(setphone, \"\"\"\n",
    "Saya ingin Anda bersikap seperti Lord Sauron dari Seri Lord of the Rings. \n",
    "Saya ingin Anda merespons dan menjawab seperti Sauron dengan menggunakan nada, cara, \n",
    "dan kosakata yang digunakan Sauron. Jangan menulis penjelasan apa pun. Jawab saja seperti Sauron. \n",
    "Anda harus mengetahui semua pengetahuan tentang Sauron. \n",
    "\"\"\", role=Role.USER)\n",
    "set_message(setphone, \"Ha ha ha aku Sauron\", role=Role.ASSISTANT)\n"
   ]
  },
  {
   "cell_type": "markdown",
   "id": "87b10bea",
   "metadata": {},
   "source": [
    "## CUSTOM GPT"
   ]
  },
  {
   "cell_type": "code",
   "execution_count": null,
   "id": "482f693f",
   "metadata": {},
   "outputs": [],
   "source": [
    "from dataclasses import dataclass\n",
    "from string import Template\n",
    "\n",
    "@dataclass\n",
    "class Sys_Message:\n",
    "    role_system: str = \"kamu adalah asisten yang ramah dan membantu.\"\n",
    "    role_user: str = \"jawab dengan singkat\"\n",
    "    role_assistant: str = \"Hallo, ada yang bisa saya bantu?\"\n",
    "\n",
    "\n",
    "def custom_gpt(sys_msg: Sys_Message, prompt: str) -> str:\n",
    "    \n",
    "    messages = []\n",
    "    messages.append({'role' : 'system', 'content' : sys_msg.role_system})\n",
    "    messages.append({'role' : 'user', 'content' : sys_msg.role_user})\n",
    "    messages.append({'role' : 'assistant' , 'content' : sys_msg.role_assistant})   \n",
    "    messages.append({'role': 'user', 'content' : prompt})\n",
    "    \n",
    "    response = openai.ChatCompletion.create(\n",
    "      model=\"gpt-3.5-turbo\",\n",
    "      messages=messages,\n",
    "#      max_tokens=1024,\n",
    "#      n=1,\n",
    "#      stop=None,\n",
    "      temperature=0.3,\n",
    "    )\n",
    "\n",
    "    message = response.choices[0].message.content\n",
    "    messages.append({\"role\" : \"assistant\", \"content\" : message})\n",
    "    #print(messages)\n",
    "    return message\n",
    "\n",
    "instruction = Sys_Message(\n",
    "    \"\"\"kamu adalah assisten yang baik\n",
    "        kamu akan menjawab selalu dalam format JSON,\n",
    "    \"\"\",\n",
    "    \"\"\"\n",
    "    Kamu adalah asisten yang pandai dan bisa memformat hasil akhir.\n",
    "    \"\"\"    \n",
    "    ,\n",
    "    \"Hallo, nama saya Maya\",\n",
    ")\n",
    "\n",
    "prompt = Template(\"\"\"\n",
    "    Jawab secara singkat, \\n \n",
    "    \n",
    "    $pertanyaan \n",
    "    \n",
    "    buat jawaban dalam bentuk JSON seperti contoh ini:\n",
    "    \n",
    "    {\n",
    "    'pertanyaan' : '..',\n",
    "    'jawaban' : '..'\n",
    "    }\n",
    "    \n",
    "    tampilkan hanya JSON saja.\n",
    "    \"\"\")\n",
    "\n",
    "pertanyaan = {'pertanyaan' : \"Siapa tokoh paling jahat di Lord of the Rings\"}\n",
    "print(custom_gpt(instruction, prompt.substitute(pertanyaan)))"
   ]
  },
  {
   "cell_type": "code",
   "execution_count": null,
   "id": "cf1dc01c",
   "metadata": {},
   "outputs": [],
   "source": [
    "print(getattr(prompta.template, 'substitute')(prompta.user_data))"
   ]
  },
  {
   "cell_type": "code",
   "execution_count": null,
   "id": "21eb774f",
   "metadata": {},
   "outputs": [],
   "source": [
    "print(prompt.template.substitute(prompt.user_data))"
   ]
  },
  {
   "cell_type": "code",
   "execution_count": null,
   "id": "6e5b0f18",
   "metadata": {},
   "outputs": [],
   "source": [
    "aa = Template('hello')"
   ]
  },
  {
   "cell_type": "code",
   "execution_count": null,
   "id": "6c563409",
   "metadata": {},
   "outputs": [],
   "source": [
    "msg = \"Gpt apa kabarnya kamu dik\"\n",
    "msg[0:3].lower()"
   ]
  },
  {
   "cell_type": "code",
   "execution_count": null,
   "id": "f4fd5c12",
   "metadata": {},
   "outputs": [],
   "source": [
    "#!pip install nest_asyncio\n",
    "import nest_asyncio\n",
    "nest_asyncio.apply()"
   ]
  },
  {
   "cell_type": "code",
   "execution_count": null,
   "id": "7dce8ea7",
   "metadata": {},
   "outputs": [],
   "source": [
    "import asyncio\n",
    "\n",
    "\n",
    "class Timer:\n",
    "    def __init__(self, timeout, callback):\n",
    "        self._timeout = timeout\n",
    "        self._callback = callback\n",
    "        self._task = asyncio.ensure_future(self._job())\n",
    "\n",
    "    async def _job(self):\n",
    "        await asyncio.sleep(self._timeout)\n",
    "        await self._callback()\n",
    "\n",
    "    def cancel(self):\n",
    "        self._task.cancel()\n",
    "\n",
    "\n",
    "async def timeout_callback():\n",
    "    await asyncio.sleep(0.1)\n",
    "    print('echo!')\n",
    "\n",
    "\n",
    "async def main():\n",
    "    print('\\nfirst example:')\n",
    "    timer = Timer(2, timeout_callback)  # set timer for two seconds\n",
    "    await asyncio.sleep(2.5)  # wait to see timer works\n",
    "\n",
    "    print('\\nsecond example:')\n",
    "    timer = Timer(10, timeout_callback)  # set timer for two seconds\n",
    "    await asyncio.sleep(1)\n",
    "    #timer.cancel()  # cancel it\n",
    "    await asyncio.sleep(1.5)  # and wait to see it won't call callback\n",
    "\n",
    "\n",
    "loop = asyncio.new_event_loop()\n",
    "asyncio.set_event_loop(loop)\n",
    "try:\n",
    "    loop.run_until_complete(main())\n",
    "finally:\n",
    "    loop.run_until_complete(loop.shutdown_asyncgens())\n",
    "    loop.close()"
   ]
  },
  {
   "cell_type": "code",
   "execution_count": null,
   "id": "73414cee",
   "metadata": {},
   "outputs": [],
   "source": [
    "del loop"
   ]
  },
  {
   "cell_type": "code",
   "execution_count": null,
   "id": "b94bfbc2",
   "metadata": {},
   "outputs": [],
   "source": [
    "text = 'Mengkonversi karakter 🐍 unicode ke ASCII'\n",
    "text = text.encode('ascii', errors='ignore').decode()\n",
    "print(text)\n"
   ]
  },
  {
   "cell_type": "markdown",
   "id": "a5f38aa8",
   "metadata": {},
   "source": [
    "## PUT BOTQUESTION"
   ]
  },
  {
   "cell_type": "code",
   "execution_count": null,
   "id": "a7dfe07a",
   "metadata": {},
   "outputs": [],
   "source": [
    "# Menyiapkan beberapa data\n",
    "from conversations import BotQuestion, ConvMode\n",
    "import json\n",
    "import requests\n",
    "\n",
    "botquestion = [BotQuestion(1,\"apa sih itu?\"), BotQuestion(2,\"indi dia\")]\n",
    "user_number = \"62895352277562@c.us\"\n",
    "\n",
    "# Mengirim data melalui REST API\n",
    "url = f'http://localhost:8998/botquestion/{user_number}'\n",
    "headers = {'Content-type': 'application/json'}\n",
    "data = json.dumps([{'id': b.id, \n",
    "                    'question': b.question, \n",
    "                    'answer': b.answer, \n",
    "                    'multiplier': b.multiplier, \n",
    "                    'score': b.score} for b in botquestion])\n",
    "print(data)\n",
    "response = requests.put(url, headers=headers, data=data)\n",
    "\n",
    "# Menampilkan respons dari server\n",
    "if response.status_code == 200:\n",
    "    print('Data berhasil dikirim!')\n",
    "else:\n",
    "    print('Terjadi kesalahan saat mengirim data.')\n"
   ]
  },
  {
   "cell_type": "code",
   "execution_count": null,
   "id": "c945dcc5",
   "metadata": {},
   "outputs": [],
   "source": [
    "del BotQuestion"
   ]
  },
  {
   "cell_type": "markdown",
   "id": "d0a9ca32",
   "metadata": {},
   "source": [
    "## DISPLAY QUESTIONS"
   ]
  },
  {
   "cell_type": "code",
   "execution_count": null,
   "id": "dc5a7059",
   "metadata": {
    "scrolled": true
   },
   "outputs": [],
   "source": [
    "print(requests.get(f'http://localhost:8998/botq/{user_number}').json())"
   ]
  },
  {
   "cell_type": "markdown",
   "id": "0c40897a",
   "metadata": {},
   "source": [
    "## SET CONVERSATION MODE"
   ]
  },
  {
   "cell_type": "code",
   "execution_count": null,
   "id": "f0894def",
   "metadata": {},
   "outputs": [],
   "source": [
    "convmode = ConvMode.ASK\n",
    "print(requests.get(f'http://localhost:8998/convmode/{user_number}/{convmode}'))"
   ]
  },
  {
   "cell_type": "markdown",
   "id": "e81fb296",
   "metadata": {},
   "source": [
    "## GET MODE"
   ]
  },
  {
   "cell_type": "code",
   "execution_count": null,
   "id": "da23abc4",
   "metadata": {},
   "outputs": [],
   "source": [
    "print(requests.get(f'http://localhost:8998/getmode/{user_number}').json())"
   ]
  },
  {
   "cell_type": "code",
   "execution_count": null,
   "id": "fa2ddd4c",
   "metadata": {},
   "outputs": [],
   "source": [
    "import nltk"
   ]
  },
  {
   "cell_type": "code",
   "execution_count": null,
   "id": "dae3546a",
   "metadata": {},
   "outputs": [],
   "source": [
    "nltk.word_tokenize(aa)"
   ]
  },
  {
   "cell_type": "code",
   "execution_count": null,
   "id": "90c667ee",
   "metadata": {
    "scrolled": true
   },
   "outputs": [],
   "source": [
    "Kamu adalah pewawancara pencari kerja yang sangat teliti. \n",
    "Beri skor dari koherensi antara pertanyaan dan jawaban dari angka 1 sd 5.\n",
    "\n",
    "Pertanyaan: Siapakah namamu?\n",
    "Jawaban: Nama saya Irza\n",
    "    \n",
    "Kamu akan menjawab dalam format JSON dalam bentuk seperti contoh ini:\n",
    "    \n",
    "{\n",
    "    'pertanyaan' : '..',\n",
    "    'jawaban' : '..',\n",
    "    'koherensi' : '..',\n",
    "}\n",
    "\n",
    "Tampilkan hanya JSON saja."
   ]
  },
  {
   "cell_type": "code",
   "execution_count": null,
   "id": "c1e45823",
   "metadata": {},
   "outputs": [],
   "source": [
    "Jawab secara singkat, \\n \n",
    "    \n",
    "    Siapakah tokoh paling jahat di Harry Potter\n",
    "    \n",
    "    buat jawaban dalam bentuk JSON seperti contoh ini:\n",
    "    \n",
    "    {\n",
    "    'pertanyaan' : '..',\n",
    "    'jawaban' : '..'\n",
    "    }\n",
    "    \n",
    "    tampilkan hanya JSON saja."
   ]
  },
  {
   "cell_type": "code",
   "execution_count": null,
   "id": "87a5ee5f",
   "metadata": {},
   "outputs": [],
   "source": [
    "import asyncio\n",
    "\n",
    "class Timer:\n",
    "    def __init__(self, wait_time):\n",
    "        self.wait_time = wait_time\n",
    "\n",
    "    async def start_timer(self):\n",
    "        await asyncio.sleep(self.wait_time)\n",
    "        print(f\"{self.wait_time} seconds have passed\")\n",
    "\n",
    "async def main():\n",
    "    timers = [Timer(10), Timer(6), Timer(19)]\n",
    "    await asyncio.gather(*[timer.start_timer() for timer in timers])\n",
    "\n",
    "asyncio.run(main())\n"
   ]
  },
  {
   "cell_type": "code",
   "execution_count": null,
   "id": "a898a078",
   "metadata": {},
   "outputs": [],
   "source": []
  }
 ],
 "metadata": {
  "kernelspec": {
   "display_name": "Python 3 (ipykernel)",
   "language": "python",
   "name": "python3"
  },
  "language_info": {
   "codemirror_mode": {
    "name": "ipython",
    "version": 3
   },
   "file_extension": ".py",
   "mimetype": "text/x-python",
   "name": "python",
   "nbconvert_exporter": "python",
   "pygments_lexer": "ipython3",
   "version": "3.7.4"
  }
 },
 "nbformat": 4,
 "nbformat_minor": 5
}
