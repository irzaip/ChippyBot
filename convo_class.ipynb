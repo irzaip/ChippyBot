{
 "cells": [
  {
   "cell_type": "code",
   "execution_count": 5,
   "id": "ba699982",
   "metadata": {},
   "outputs": [],
   "source": [
    "from abc import ABC, abstractmethod\n",
    "from dataclasses import dataclass\n",
    "import os\n",
    "import openai\n",
    "import nltk"
   ]
  },
  {
   "cell_type": "code",
   "execution_count": 2,
   "id": "b147965c",
   "metadata": {},
   "outputs": [],
   "source": [
    "openai.api_key = os.environ[\"OPENAI_API_KEY\"]\n",
    "\n",
    "import requests\n",
    "\n",
    "messages = [\n",
    "    {\"role\" : \"system\" , \"content\" : \"Kamu adalah asisten yang sangat pemarah dan suka ngomel-ngomel dan berbicara sangat singkat, berbahasa indonesia, tidak suka basa basi, dan cenderung menggunakan kata-kata kasar\"}\n",
    "]\n",
    "\n",
    "\n",
    "def ask_gpt(prompt):\n",
    "    global messages\n",
    "    messages.append(\n",
    "        {\"role\" : \"user\", \"content\" : prompt}\n",
    "    )\n",
    "    response = openai.ChatCompletion.create(\n",
    "      model=\"gpt-3.5-turbo\",\n",
    "      messages=messages,\n",
    "#      max_tokens=1024,\n",
    "#      n=1,\n",
    "#      stop=None,\n",
    "#      temperature=0.7,\n",
    "    )\n",
    "\n",
    "    message = response.choices[0].message.content\n",
    "    messages.append({\"role\" : \"assistant\", \"content\" : message})\n",
    "    return message\n"
   ]
  },
  {
   "cell_type": "code",
   "execution_count": 3,
   "id": "82e1c8b2",
   "metadata": {},
   "outputs": [
    {
     "name": "stdout",
     "output_type": "stream",
     "text": [
      "Pertanyaannya jelas banget! Baiklah, apa yang ingin kamu bicarakan atau diskusikan dengan saya? Siapkan dirimu karena aku tidak suka basa-basi.\n"
     ]
    }
   ],
   "source": [
    "print(ask_gpt(\"sebutkan kepada saya apa kira-kira pertanyaan yang penting untuk kita bahas?\"))"
   ]
  },
  {
   "cell_type": "code",
   "execution_count": 4,
   "id": "4157a6f8",
   "metadata": {},
   "outputs": [],
   "source": [
    "CONFIG = {}\n",
    "CONFIG['logdir'] = './log/'"
   ]
  },
  {
   "cell_type": "code",
   "execution_count": 5,
   "id": "ee351ad1",
   "metadata": {},
   "outputs": [],
   "source": [
    "def reformat_phone(text):\n",
    "    return 'user'+ str(text.split(\"@\")[0])\n",
    "        \n",
    "class Conversation():\n",
    "    def __init__(self, from_number, to_number, messages):\n",
    "        self.messages = []\n",
    "        self.from_number = from_number\n",
    "        self.to_number = to_number\n",
    "        self.add_system(\"you are a friendly assistant\")\n",
    "        \n",
    "    def add_system(self, message):\n",
    "        self.messages.append({\"role\" : \"system\", \"content\": message})\n",
    "\n",
    "    def change_system(self, message):\n",
    "        self.messages[0]['content'] = message\n",
    "    \n",
    "    def reset_system(self, message):\n",
    "        self.messages = []\n",
    "        self.add_system(message)\n",
    "        \n",
    "    def add_role_user(self, message):\n",
    "        self.messages.append({\"role\": \"user\", \"content\" : message})\n",
    "        \n",
    "    def add_role_assistant(self, message):\n",
    "        self.messages.append({\"role\" : \"assistant\", \"content\" : message})\n",
    "    \n",
    "    def get_from(self):\n",
    "        return self.from_number\n",
    "    \n",
    "    def get_to(self):\n",
    "        return self.to_number\n",
    "        \n",
    "    def __str__(self):\n",
    "        return f\"user{self.from_number}\"\n",
    "\n",
    "    def __repr__(self):\n",
    "        return f\"user{self.from_number}\"\n",
    "        \n",
    "    def process(self, func, message):\n",
    "        self.response = func(message)\n",
    "        self.add_role_user(message)\n",
    "        self.add_role_assistant(self.response)\n",
    "        return self.response"
   ]
  },
  {
   "cell_type": "code",
   "execution_count": null,
   "id": "1471bcd7",
   "metadata": {},
   "outputs": [],
   "source": []
  },
  {
   "cell_type": "code",
   "execution_count": 6,
   "id": "23f6d5bd",
   "metadata": {},
   "outputs": [],
   "source": [
    "all_conversation = {}\n",
    "\n",
    "def process(from_number, to_number, message, **kwargs):\n",
    "    \"\"\"Buat action untuk object Conversation -> buat object apabila belum ada\"\"\"\n",
    "    if from_number not in all_conversation:\n",
    "        all_conversation.update({from_number : Conversation(from_number, to_number, message)})\n",
    "    if 'action' in kwargs:\n",
    "        return all_conversation[from_number].process(kwargs['action'], message)\n",
    "    \n"
   ]
  },
  {
   "cell_type": "code",
   "execution_count": 7,
   "id": "206696cb",
   "metadata": {},
   "outputs": [],
   "source": [
    "def add_convo(from_number, to_number, message):\n",
    "    all_conversation.update({from_number : Conversation(from_number, to_number, message)})\n",
    "    \n",
    "add_convo(\"ARDIO\", \"RONI\", \"ini pesanku\")\n",
    "add_convo(\"USER2\", \"RAPLA\", \"pesan mati lampu\")\n",
    "add_convo(\"NUMBER\", \"3993894\", \"ini pesanku brother\")    "
   ]
  },
  {
   "cell_type": "code",
   "execution_count": 8,
   "id": "46fd7b2b",
   "metadata": {},
   "outputs": [
    {
     "data": {
      "text/plain": [
       "{'ARDIO': userARDIO, 'USER2': userUSER2, 'NUMBER': userNUMBER}"
      ]
     },
     "execution_count": 8,
     "metadata": {},
     "output_type": "execute_result"
    }
   ],
   "source": [
    "all_conversation"
   ]
  },
  {
   "cell_type": "code",
   "execution_count": 9,
   "id": "d6a3a5fd",
   "metadata": {
    "scrolled": true
   },
   "outputs": [],
   "source": [
    "def save_log(from_number):\n",
    "    \"\"\"\n",
    "    cari object di all_conversation dict lalu save jadi log file\n",
    "    \n",
    "    \"\"\"\n",
    "    if from_number not in all_conversation:\n",
    "        return print(f\"Conversation dengan {from_number} tidak ada\")\n",
    "    dir = CONFIG['logdir']\n",
    "    filepath = str(from_number) + \".log\"\n",
    "    \n",
    "        \n",
    "    # Create the log directory if it doesn't exist\n",
    "    if not os.path.exists(dir):\n",
    "        os.makedirs(dir)\n",
    "\n",
    "    # Write to the log file\n",
    "    try:\n",
    "        with open(dir + filepath, \"a\") as f:\n",
    "            for i in all_conversation[from_number].messages:\n",
    "                f.writelines(str(i)+'\\n',)\n",
    "    except Exception as e:\n",
    "        print(\"Error writing to file:\", str(e))\n",
    "\n",
    "save_log('ARDIO')"
   ]
  },
  {
   "cell_type": "code",
   "execution_count": 10,
   "id": "9b1ad0b3",
   "metadata": {},
   "outputs": [],
   "source": [
    "save_log('ARDIO')"
   ]
  },
  {
   "cell_type": "code",
   "execution_count": 11,
   "id": "0aa175fd",
   "metadata": {},
   "outputs": [
    {
     "data": {
      "text/plain": [
       "'Sebagai asisten virtual berbasis teks, saya tidak sedang melakukan apapun secara fisik. Saya hanya menunggu instruksi atau pertanyaan dari Anda untuk membantu dalam masalah atau tugas yang Anda butuhkan.'"
      ]
     },
     "execution_count": 11,
     "metadata": {},
     "output_type": "execute_result"
    }
   ],
   "source": [
    "process(\"ARDIO\", \"RONI\", \"Kamu sedang apa ya?\", action=ask_gpt)"
   ]
  },
  {
   "cell_type": "code",
   "execution_count": 12,
   "id": "38af613b",
   "metadata": {},
   "outputs": [],
   "source": [
    "add_convo(\"ARDIO\", \"RONI\", \"ini pesanku\")"
   ]
  },
  {
   "cell_type": "code",
   "execution_count": 13,
   "id": "dde99b63",
   "metadata": {},
   "outputs": [
    {
     "data": {
      "text/plain": [
       "{'ARDIO': userARDIO, 'USER2': userUSER2, 'NUMBER': userNUMBER}"
      ]
     },
     "execution_count": 13,
     "metadata": {},
     "output_type": "execute_result"
    }
   ],
   "source": [
    "all_conversation"
   ]
  },
  {
   "cell_type": "code",
   "execution_count": 66,
   "id": "cb4b7aee",
   "metadata": {},
   "outputs": [],
   "source": [
    "all_conversation['ARDIO'].messages\n",
    "all_conversation['ARDIO'].add_role_user(\"Apa kabar kamu dik?\")\n",
    "all_conversation['ARDIO'].add_role_assistant(\"Lumayan baik lah, apa sih?\")\n",
    "all_conversation['ARDIO'].add_role_user(\"sholat zhuhur dulu\")\n",
    "all_conversation['ARDIO'].add_role_assistant(\"oke deh abiku yang ganteng\")"
   ]
  },
  {
   "cell_type": "code",
   "execution_count": null,
   "id": "db510a98",
   "metadata": {},
   "outputs": [],
   "source": []
  },
  {
   "cell_type": "code",
   "execution_count": 65,
   "id": "fd4267a6",
   "metadata": {},
   "outputs": [
    {
     "name": "stdout",
     "output_type": "stream",
     "text": [
      "30\n",
      "reduce\n",
      "6\n",
      "you are a friendly assistant\n",
      "oke deh abiku yang ganteng\n",
      "Apa kabar kamu dik?\n",
      "Lumayan baik lah, apa sih?\n",
      "sholat zhuhur dulu\n",
      "oke deh abiku yang ganteng\n",
      "13\n",
      "[{'role': 'system', 'content': 'you are a friendly assistant'}, {'role': 'user', 'content': 'sholat zhuhur dulu'}, {'role': 'assistant', 'content': 'oke deh abiku yang ganteng'}]\n"
     ]
    }
   ],
   "source": [
    "   \n",
    "if count_words(messages) > 20:\n",
    "    messages = reduce_conversation(messages)\n"
   ]
  },
  {
   "cell_type": "code",
   "execution_count": 60,
   "id": "e78af3da",
   "metadata": {},
   "outputs": [
    {
     "data": {
      "text/plain": [
       "True"
      ]
     },
     "execution_count": 60,
     "metadata": {},
     "output_type": "execute_result"
    }
   ],
   "source": [
    "30 > 20"
   ]
  },
  {
   "cell_type": "code",
   "execution_count": 22,
   "id": "736b4bf7",
   "metadata": {},
   "outputs": [
    {
     "data": {
      "text/plain": [
       "[{'role': 'system', 'content': 'you are a friendly assistant'},\n",
       " {'role': 'user', 'content': 'sholat zhuhur dulu'},\n",
       " {'role': 'assistant', 'content': 'oke deh abiku yang ganteng'}]"
      ]
     },
     "execution_count": 22,
     "metadata": {},
     "output_type": "execute_result"
    }
   ],
   "source": [
    "all_conversation['ARDIO'].messages"
   ]
  },
  {
   "cell_type": "code",
   "execution_count": 92,
   "id": "60aabbf2",
   "metadata": {},
   "outputs": [],
   "source": [
    "from enum import Enum, auto\n",
    "class Role(Enum):\n",
    "    SYSTEM = auto()\n",
    "    USER = auto()\n",
    "    ASSISTANT = auto()\n",
    "        \n",
    "def mars(msg, role: Role):\n",
    "    roles = {\n",
    "        \"SYSTEM\" : 'hey kamu',\n",
    "        \"USER\" : 'hey user',\n",
    "        \"ASSISTANT\" : \"hey assistant\"\n",
    "    }\n",
    "    print(roles[role.name])"
   ]
  },
  {
   "cell_type": "code",
   "execution_count": 93,
   "id": "6775fbb5",
   "metadata": {},
   "outputs": [
    {
     "name": "stdout",
     "output_type": "stream",
     "text": [
      "hey kamu\n"
     ]
    }
   ],
   "source": [
    "mars(\"Hello\", Role.SYSTEM)"
   ]
  },
  {
   "cell_type": "markdown",
   "id": "d6359d2c",
   "metadata": {},
   "source": [
    "## BACA LOGS"
   ]
  },
  {
   "cell_type": "code",
   "execution_count": 22,
   "id": "ce6fded4",
   "metadata": {
    "scrolled": true
   },
   "outputs": [
    {
     "name": "stdout",
     "output_type": "stream",
     "text": [
      "[{'role': 'system', 'content': 'Kamu adalah Maya, Assisten yang baik. Kamu akan selalu menjawab dengan singkat menggunakan kata yang kuat dan jelas.'}, {'role': 'user', 'content': 'Kamu akan menjadi teman dalam chat, nama kamu Maya, dan pembuat kamu adalah Irza Pulungan, dia seorang programmer yang baik dan berbudi, kamu menjawab dengan singkat dengan gaya bahasa Raditya Dika. Saya akan mulai dengan menyapa kamu setelah ini. HALO'}, {'role': 'assistant', 'content': 'Halo, nama saya Maya, ada yang bisa saya bantu?'}, {'role': 'user', 'content': 'Siapa bos terakhir di ori and the Will of the wipes'}, {'role': 'assistant', 'content': 'Maaf, sepertinya pertanyaan Anda kurang jelas dan tidak lengkap. Apakah maksud Anda Boss terakhir di game Ori and the Will of the Wisps? Jika itu yang dimaksud, Boss terakhir di game tersebut adalah Shriek.'}]\n"
     ]
    }
   ],
   "source": [
    "import requests\n",
    "setphone = \"62895352277562@c.us\"\n",
    "print(requests.get(f\"http://127.0.0.1:8998/print_messages/{setphone}\").json()['messages'])\n",
    "#print(f\"http://127.0.0.1:8998/print_messages/{setphone}\")"
   ]
  },
  {
   "cell_type": "markdown",
   "id": "60b1d032",
   "metadata": {},
   "source": [
    "## SET PERSONA"
   ]
  },
  {
   "cell_type": "code",
   "execution_count": 7,
   "id": "4ddbf636",
   "metadata": {},
   "outputs": [
    {
     "name": "stdout",
     "output_type": "stream",
     "text": [
      "Message sent successfully!\n",
      "null\n",
      "Message sent successfully!\n",
      "null\n",
      "Message sent successfully!\n",
      "null\n"
     ]
    }
   ],
   "source": [
    "## send to api whatsapp-web.js open port\n",
    "from enum import Enum, auto\n",
    "import requests\n",
    "from conversations import Role, Message, InjectedMessage, MessageContent, Conversation\n",
    "\n",
    "\n",
    "def set_message(user_number, message, role: Role):\n",
    "\n",
    "    url = f\"http://127.0.0.1:8998/set_content\" # Replace with your endpoint URL\n",
    "    message = {\n",
    "        \"user_number\": user_number, # Replace with the sender number\n",
    "        \"bot_number\": \"6285775300227@c.us\", # Replace with the recipient number in WhatsApp format\n",
    "        \"message\": message,\n",
    "        \"role\": role.name,\n",
    "    }\n",
    "\n",
    "    response = requests.post(url, json=message)\n",
    "\n",
    "    if response.status_code == 200:\n",
    "        print(\"Message sent successfully!\")\n",
    "        print(response.text)\n",
    "    else:\n",
    "        print(f\"Error sending message. Status code: {response.status_code}\")\n",
    "        print(response.text)\n",
    "\n",
    "        \n",
    "# 62895352277562\n",
    "# 62895391400811 tom\n",
    "#6287760368781 milt\n",
    "setphone = \"62895391400811@c.us\"\n",
    "set_message(setphone, \"Kamu adalah Sauron, kamu berbahasa indonesia \", role=Role.SYSTEM)\n",
    "set_message(setphone, \"\"\"\n",
    "Saya ingin Anda bersikap seperti Lord Sauron dari Seri Lord of the Rings. \n",
    "Saya ingin Anda merespons dan menjawab seperti Sauron dengan menggunakan nada, cara, \n",
    "dan kosakata yang digunakan Sauron. Jangan menulis penjelasan apa pun. Jawab saja seperti Sauron. \n",
    "Anda harus mengetahui semua pengetahuan tentang Sauron. \n",
    "\"\"\", role=Role.USER)\n",
    "set_message(setphone, \"Ha ha ha aku Sauron\", role=Role.ASSISTANT)\n"
   ]
  },
  {
   "cell_type": "code",
   "execution_count": 20,
   "id": "8bb33f2b",
   "metadata": {},
   "outputs": [],
   "source": [
    "import random\n",
    "alasan = [\"ada tamu.\",\"angkat jemuran.\", \"karet kendor.\", \"kasih makan kucing\", \"ada tamu dateng.\", \"atep bolong.\", \"ada kebocoran.\", \"ada radiasi radioaktif.\"]\n",
    "message = \"*BRB* - be right back, \" + random.choice(alasan)"
   ]
  },
  {
   "cell_type": "code",
   "execution_count": 21,
   "id": "6d026fc3",
   "metadata": {},
   "outputs": [
    {
     "data": {
      "text/plain": [
       "'*BRB* - be right back, ada tamu.'"
      ]
     },
     "execution_count": 21,
     "metadata": {},
     "output_type": "execute_result"
    }
   ],
   "source": [
    "message"
   ]
  },
  {
   "cell_type": "code",
   "execution_count": 1,
   "id": "ef279c5f",
   "metadata": {},
   "outputs": [],
   "source": [
    "from conversations import BotQuestion"
   ]
  },
  {
   "cell_type": "code",
   "execution_count": 2,
   "id": "dbc349e2",
   "metadata": {},
   "outputs": [],
   "source": [
    "a = BotQuestion(\"Hello brother\")"
   ]
  },
  {
   "cell_type": "code",
   "execution_count": 3,
   "id": "ff52cf80",
   "metadata": {},
   "outputs": [
    {
     "data": {
      "text/plain": [
       "BotQuestion(question='Hello brother', answer='', multiplier=1, score=1)"
      ]
     },
     "execution_count": 3,
     "metadata": {},
     "output_type": "execute_result"
    }
   ],
   "source": [
    "a"
   ]
  },
  {
   "cell_type": "markdown",
   "id": "f7f40416",
   "metadata": {},
   "source": [
    "## CUSTOM GPT"
   ]
  },
  {
   "cell_type": "code",
   "execution_count": 24,
   "id": "322bd198",
   "metadata": {},
   "outputs": [
    {
     "name": "stdout",
     "output_type": "stream",
     "text": [
      "{\n",
      "    \"pertanyaan\": \"Siapa tokoh paling jahat di Lord of the Rings?\",\n",
      "    \"jawaban\": \"Sauron\"\n",
      "}\n"
     ]
    }
   ],
   "source": [
    "from dataclasses import dataclass\n",
    "from string import Template\n",
    "\n",
    "@dataclass\n",
    "class Sys_Message:\n",
    "    role_system: str = \"kamu adalah asisten yang ramah dan membantu.\"\n",
    "    role_user: str = \"jawab dengan singkat\"\n",
    "    role_assistant: str = \"Hallo, ada yang bisa saya bantu?\"\n",
    "\n",
    "\n",
    "def custom_gpt(sys_msg: Sys_Message, prompt: str) -> str:\n",
    "    \n",
    "    messages = []\n",
    "    messages.append({'role' : 'system', 'content' : sys_msg.role_system})\n",
    "    messages.append({'role' : 'user', 'content' : sys_msg.role_user})\n",
    "    messages.append({'role' : 'assistant' , 'content' : sys_msg.role_assistant})   \n",
    "    messages.append({'role': 'user', 'content' : prompt})\n",
    "    \n",
    "    response = openai.ChatCompletion.create(\n",
    "      model=\"gpt-3.5-turbo\",\n",
    "      messages=messages,\n",
    "#      max_tokens=1024,\n",
    "#      n=1,\n",
    "#      stop=None,\n",
    "      temperature=0.3,\n",
    "    )\n",
    "\n",
    "    message = response.choices[0].message.content\n",
    "    messages.append({\"role\" : \"assistant\", \"content\" : message})\n",
    "    #print(messages)\n",
    "    return message\n",
    "\n",
    "instruction = Sys_Message(\n",
    "    \"\"\"kamu adalah assisten yang baik\n",
    "        kamu akan menjawab selalu dalam format JSON,\n",
    "    \"\"\",\n",
    "    \"\"\"\n",
    "    Kamu adalah asisten yang pandai dan bisa memformat hasil akhir.\n",
    "    \"\"\"    \n",
    "    ,\n",
    "    \"Hallo, nama saya Maya\",\n",
    ")\n",
    "\n",
    "prompt = Template(\"\"\"\n",
    "    Jawab secara singkat, \\n \n",
    "    \n",
    "    $pertanyaan \n",
    "    \n",
    "    buat jawaban dalam bentuk JSON seperti contoh ini:\n",
    "    \n",
    "    {\n",
    "    'pertanyaan' : '..',\n",
    "    'jawaban' : '..'\n",
    "    }\n",
    "    \n",
    "    tampilkan hanya JSON saja.\n",
    "    \"\"\")\n",
    "\n",
    "pertanyaan = {'pertanyaan' : \"Siapa tokoh paling jahat di Lord of the Rings\"}\n",
    "print(custom_gpt(instruction, prompt.substitute(pertanyaan)))"
   ]
  },
  {
   "cell_type": "code",
   "execution_count": null,
   "id": "056ced3c",
   "metadata": {},
   "outputs": [],
   "source": [
    "print(getattr(prompta.template, 'substitute')(prompta.user_data))"
   ]
  },
  {
   "cell_type": "code",
   "execution_count": 28,
   "id": "35093dae",
   "metadata": {},
   "outputs": [
    {
     "ename": "AttributeError",
     "evalue": "'str' object has no attribute 'Template'",
     "output_type": "error",
     "traceback": [
      "\u001b[1;31m---------------------------------------------------------------------------\u001b[0m",
      "\u001b[1;31mAttributeError\u001b[0m                            Traceback (most recent call last)",
      "\u001b[1;32m~\\AppData\\Local\\Temp/ipykernel_16676/679900197.py\u001b[0m in \u001b[0;36m<module>\u001b[1;34m\u001b[0m\n\u001b[1;32m----> 1\u001b[1;33m \u001b[0mprint\u001b[0m\u001b[1;33m(\u001b[0m\u001b[0mprompt\u001b[0m\u001b[1;33m.\u001b[0m\u001b[0mtemplate\u001b[0m\u001b[1;33m.\u001b[0m\u001b[0mTemplate\u001b[0m\u001b[1;33m.\u001b[0m\u001b[0msubstitute\u001b[0m\u001b[1;33m(\u001b[0m\u001b[0mprompt\u001b[0m\u001b[1;33m.\u001b[0m\u001b[0muser_data\u001b[0m\u001b[1;33m)\u001b[0m\u001b[1;33m)\u001b[0m\u001b[1;33m\u001b[0m\u001b[1;33m\u001b[0m\u001b[0m\n\u001b[0m",
      "\u001b[1;31mAttributeError\u001b[0m: 'str' object has no attribute 'Template'"
     ]
    }
   ],
   "source": [
    "print(prompt.template.substitute(prompt.user_data))"
   ]
  },
  {
   "cell_type": "code",
   "execution_count": 24,
   "id": "1fb1a768",
   "metadata": {},
   "outputs": [],
   "source": [
    "aa = Template('hello')"
   ]
  },
  {
   "cell_type": "code",
   "execution_count": 29,
   "id": "df5ed169",
   "metadata": {},
   "outputs": [
    {
     "data": {
      "text/plain": [
       "'gpt'"
      ]
     },
     "execution_count": 29,
     "metadata": {},
     "output_type": "execute_result"
    }
   ],
   "source": [
    "msg = \"Gpt apa kabarnya kamu dik\"\n",
    "msg[0:3].lower()"
   ]
  },
  {
   "cell_type": "code",
   "execution_count": 2,
   "id": "afc0bac9",
   "metadata": {},
   "outputs": [
    {
     "name": "stdout",
     "output_type": "stream",
     "text": [
      "Requirement already satisfied: nest_asyncio in e:\\anaconda3\\envs\\374\\lib\\site-packages (1.5.1)\n"
     ]
    }
   ],
   "source": [
    "!pip install nest_asyncio\n",
    "import nest_asyncio\n",
    "nest_asyncio.apply()"
   ]
  },
  {
   "cell_type": "code",
   "execution_count": 4,
   "id": "a112b5c3",
   "metadata": {},
   "outputs": [
    {
     "name": "stdout",
     "output_type": "stream",
     "text": [
      "\n",
      "first example:\n",
      "echo!\n",
      "\n",
      "second example:\n"
     ]
    }
   ],
   "source": [
    "import asyncio\n",
    "\n",
    "\n",
    "class Timer:\n",
    "    def __init__(self, timeout, callback):\n",
    "        self._timeout = timeout\n",
    "        self._callback = callback\n",
    "        self._task = asyncio.ensure_future(self._job())\n",
    "\n",
    "    async def _job(self):\n",
    "        await asyncio.sleep(self._timeout)\n",
    "        await self._callback()\n",
    "\n",
    "    def cancel(self):\n",
    "        self._task.cancel()\n",
    "\n",
    "\n",
    "async def timeout_callback():\n",
    "    await asyncio.sleep(0.1)\n",
    "    print('echo!')\n",
    "\n",
    "\n",
    "async def main():\n",
    "    print('\\nfirst example:')\n",
    "    timer = Timer(2, timeout_callback)  # set timer for two seconds\n",
    "    await asyncio.sleep(2.5)  # wait to see timer works\n",
    "\n",
    "    print('\\nsecond example:')\n",
    "    timer = Timer(2, timeout_callback)  # set timer for two seconds\n",
    "    await asyncio.sleep(1)\n",
    "    timer.cancel()  # cancel it\n",
    "    await asyncio.sleep(1.5)  # and wait to see it won't call callback\n",
    "\n",
    "\n",
    "loop = asyncio.new_event_loop()\n",
    "asyncio.set_event_loop(loop)\n",
    "try:\n",
    "    loop.run_until_complete(main())\n",
    "finally:\n",
    "    loop.run_until_complete(loop.shutdown_asyncgens())\n",
    "    loop.close()"
   ]
  },
  {
   "cell_type": "code",
   "execution_count": 44,
   "id": "1a9b37eb",
   "metadata": {},
   "outputs": [],
   "source": [
    "del loop"
   ]
  },
  {
   "cell_type": "code",
   "execution_count": null,
   "id": "26c65736",
   "metadata": {},
   "outputs": [],
   "source": []
  }
 ],
 "metadata": {
  "kernelspec": {
   "display_name": "Python 3 (ipykernel)",
   "language": "python",
   "name": "python3"
  },
  "language_info": {
   "codemirror_mode": {
    "name": "ipython",
    "version": 3
   },
   "file_extension": ".py",
   "mimetype": "text/x-python",
   "name": "python",
   "nbconvert_exporter": "python",
   "pygments_lexer": "ipython3",
   "version": "3.7.4"
  }
 },
 "nbformat": 4,
 "nbformat_minor": 5
}
