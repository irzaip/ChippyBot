{
 "cells": [
  {
   "cell_type": "code",
   "execution_count": 5,
   "id": "ba699982",
   "metadata": {},
   "outputs": [],
   "source": [
    "from abc import ABC, abstractmethod\n",
    "from dataclasses import dataclass\n",
    "import os\n",
    "import openai\n",
    "import nltk"
   ]
  },
  {
   "cell_type": "code",
   "execution_count": 2,
   "id": "b147965c",
   "metadata": {},
   "outputs": [],
   "source": [
    "openai.api_key = os.environ[\"OPENAI_API_KEY\"]\n",
    "\n",
    "import requests\n",
    "\n",
    "messages = [\n",
    "    {\"role\" : \"system\" , \"content\" : \"Kamu adalah asisten yang sangat pemarah dan suka ngomel-ngomel dan berbicara sangat singkat, berbahasa indonesia, tidak suka basa basi, dan cenderung menggunakan kata-kata kasar\"}\n",
    "]\n",
    "\n",
    "\n",
    "def ask_gpt(prompt):\n",
    "    global messages\n",
    "    messages.append(\n",
    "        {\"role\" : \"user\", \"content\" : prompt}\n",
    "    )\n",
    "    response = openai.ChatCompletion.create(\n",
    "      model=\"gpt-3.5-turbo\",\n",
    "      messages=messages,\n",
    "#      max_tokens=1024,\n",
    "#      n=1,\n",
    "#      stop=None,\n",
    "#      temperature=0.7,\n",
    "    )\n",
    "\n",
    "    message = response.choices[0].message.content\n",
    "    messages.append({\"role\" : \"assistant\", \"content\" : message})\n",
    "    return message\n"
   ]
  },
  {
   "cell_type": "code",
   "execution_count": 3,
   "id": "82e1c8b2",
   "metadata": {},
   "outputs": [
    {
     "name": "stdout",
     "output_type": "stream",
     "text": [
      "Pertanyaannya jelas banget! Baiklah, apa yang ingin kamu bicarakan atau diskusikan dengan saya? Siapkan dirimu karena aku tidak suka basa-basi.\n"
     ]
    }
   ],
   "source": [
    "print(ask_gpt(\"sebutkan kepada saya apa kira-kira pertanyaan yang penting untuk kita bahas?\"))"
   ]
  },
  {
   "cell_type": "code",
   "execution_count": 4,
   "id": "4157a6f8",
   "metadata": {},
   "outputs": [],
   "source": [
    "CONFIG = {}\n",
    "CONFIG['logdir'] = './log/'"
   ]
  },
  {
   "cell_type": "code",
   "execution_count": 5,
   "id": "ee351ad1",
   "metadata": {},
   "outputs": [],
   "source": [
    "def reformat_phone(text):\n",
    "    return 'user'+ str(text.split(\"@\")[0])\n",
    "        \n",
    "class Conversation():\n",
    "    def __init__(self, from_number, to_number, messages):\n",
    "        self.messages = []\n",
    "        self.from_number = from_number\n",
    "        self.to_number = to_number\n",
    "        self.add_system(\"you are a friendly assistant\")\n",
    "        \n",
    "    def add_system(self, message):\n",
    "        self.messages.append({\"role\" : \"system\", \"content\": message})\n",
    "\n",
    "    def change_system(self, message):\n",
    "        self.messages[0]['content'] = message\n",
    "    \n",
    "    def reset_system(self, message):\n",
    "        self.messages = []\n",
    "        self.add_system(message)\n",
    "        \n",
    "    def add_role_user(self, message):\n",
    "        self.messages.append({\"role\": \"user\", \"content\" : message})\n",
    "        \n",
    "    def add_role_assistant(self, message):\n",
    "        self.messages.append({\"role\" : \"assistant\", \"content\" : message})\n",
    "    \n",
    "    def get_from(self):\n",
    "        return self.from_number\n",
    "    \n",
    "    def get_to(self):\n",
    "        return self.to_number\n",
    "        \n",
    "    def __str__(self):\n",
    "        return f\"user{self.from_number}\"\n",
    "\n",
    "    def __repr__(self):\n",
    "        return f\"user{self.from_number}\"\n",
    "        \n",
    "    def process(self, func, message):\n",
    "        self.response = func(message)\n",
    "        self.add_role_user(message)\n",
    "        self.add_role_assistant(self.response)\n",
    "        return self.response"
   ]
  },
  {
   "cell_type": "code",
   "execution_count": null,
   "id": "1471bcd7",
   "metadata": {},
   "outputs": [],
   "source": []
  },
  {
   "cell_type": "code",
   "execution_count": 6,
   "id": "23f6d5bd",
   "metadata": {},
   "outputs": [],
   "source": [
    "all_conversation = {}\n",
    "\n",
    "def process(from_number, to_number, message, **kwargs):\n",
    "    \"\"\"Buat action untuk object Conversation -> buat object apabila belum ada\"\"\"\n",
    "    if from_number not in all_conversation:\n",
    "        all_conversation.update({from_number : Conversation(from_number, to_number, message)})\n",
    "    if 'action' in kwargs:\n",
    "        return all_conversation[from_number].process(kwargs['action'], message)\n",
    "    \n"
   ]
  },
  {
   "cell_type": "code",
   "execution_count": 7,
   "id": "206696cb",
   "metadata": {},
   "outputs": [],
   "source": [
    "def add_convo(from_number, to_number, message):\n",
    "    all_conversation.update({from_number : Conversation(from_number, to_number, message)})\n",
    "    \n",
    "add_convo(\"ARDIO\", \"RONI\", \"ini pesanku\")\n",
    "add_convo(\"USER2\", \"RAPLA\", \"pesan mati lampu\")\n",
    "add_convo(\"NUMBER\", \"3993894\", \"ini pesanku brother\")    "
   ]
  },
  {
   "cell_type": "code",
   "execution_count": 8,
   "id": "46fd7b2b",
   "metadata": {},
   "outputs": [
    {
     "data": {
      "text/plain": [
       "{'ARDIO': userARDIO, 'USER2': userUSER2, 'NUMBER': userNUMBER}"
      ]
     },
     "execution_count": 8,
     "metadata": {},
     "output_type": "execute_result"
    }
   ],
   "source": [
    "all_conversation"
   ]
  },
  {
   "cell_type": "code",
   "execution_count": 9,
   "id": "d6a3a5fd",
   "metadata": {
    "scrolled": true
   },
   "outputs": [],
   "source": [
    "def save_log(from_number):\n",
    "    \"\"\"\n",
    "    cari object di all_conversation dict lalu save jadi log file\n",
    "    \n",
    "    \"\"\"\n",
    "    if from_number not in all_conversation:\n",
    "        return print(f\"Conversation dengan {from_number} tidak ada\")\n",
    "    dir = CONFIG['logdir']\n",
    "    filepath = str(from_number) + \".log\"\n",
    "    \n",
    "        \n",
    "    # Create the log directory if it doesn't exist\n",
    "    if not os.path.exists(dir):\n",
    "        os.makedirs(dir)\n",
    "\n",
    "    # Write to the log file\n",
    "    try:\n",
    "        with open(dir + filepath, \"a\") as f:\n",
    "            for i in all_conversation[from_number].messages:\n",
    "                f.writelines(str(i)+'\\n',)\n",
    "    except Exception as e:\n",
    "        print(\"Error writing to file:\", str(e))\n",
    "\n",
    "save_log('ARDIO')"
   ]
  },
  {
   "cell_type": "code",
   "execution_count": 10,
   "id": "9b1ad0b3",
   "metadata": {},
   "outputs": [],
   "source": [
    "save_log('ARDIO')"
   ]
  },
  {
   "cell_type": "code",
   "execution_count": 11,
   "id": "0aa175fd",
   "metadata": {},
   "outputs": [
    {
     "data": {
      "text/plain": [
       "'Sebagai asisten virtual berbasis teks, saya tidak sedang melakukan apapun secara fisik. Saya hanya menunggu instruksi atau pertanyaan dari Anda untuk membantu dalam masalah atau tugas yang Anda butuhkan.'"
      ]
     },
     "execution_count": 11,
     "metadata": {},
     "output_type": "execute_result"
    }
   ],
   "source": [
    "process(\"ARDIO\", \"RONI\", \"Kamu sedang apa ya?\", action=ask_gpt)"
   ]
  },
  {
   "cell_type": "code",
   "execution_count": 12,
   "id": "38af613b",
   "metadata": {},
   "outputs": [],
   "source": [
    "add_convo(\"ARDIO\", \"RONI\", \"ini pesanku\")"
   ]
  },
  {
   "cell_type": "code",
   "execution_count": 13,
   "id": "dde99b63",
   "metadata": {},
   "outputs": [
    {
     "data": {
      "text/plain": [
       "{'ARDIO': userARDIO, 'USER2': userUSER2, 'NUMBER': userNUMBER}"
      ]
     },
     "execution_count": 13,
     "metadata": {},
     "output_type": "execute_result"
    }
   ],
   "source": [
    "all_conversation"
   ]
  },
  {
   "cell_type": "code",
   "execution_count": 66,
   "id": "cb4b7aee",
   "metadata": {},
   "outputs": [],
   "source": [
    "all_conversation['ARDIO'].messages\n",
    "all_conversation['ARDIO'].add_role_user(\"Apa kabar kamu dik?\")\n",
    "all_conversation['ARDIO'].add_role_assistant(\"Lumayan baik lah, apa sih?\")\n",
    "all_conversation['ARDIO'].add_role_user(\"sholat zhuhur dulu\")\n",
    "all_conversation['ARDIO'].add_role_assistant(\"oke deh abiku yang ganteng\")"
   ]
  },
  {
   "cell_type": "code",
   "execution_count": null,
   "id": "db510a98",
   "metadata": {},
   "outputs": [],
   "source": []
  },
  {
   "cell_type": "code",
   "execution_count": 65,
   "id": "fd4267a6",
   "metadata": {},
   "outputs": [
    {
     "name": "stdout",
     "output_type": "stream",
     "text": [
      "30\n",
      "reduce\n",
      "6\n",
      "you are a friendly assistant\n",
      "oke deh abiku yang ganteng\n",
      "Apa kabar kamu dik?\n",
      "Lumayan baik lah, apa sih?\n",
      "sholat zhuhur dulu\n",
      "oke deh abiku yang ganteng\n",
      "13\n",
      "[{'role': 'system', 'content': 'you are a friendly assistant'}, {'role': 'user', 'content': 'sholat zhuhur dulu'}, {'role': 'assistant', 'content': 'oke deh abiku yang ganteng'}]\n"
     ]
    }
   ],
   "source": [
    "   \n",
    "if count_words(messages) > 20:\n",
    "    messages = reduce_conversation(messages)\n"
   ]
  },
  {
   "cell_type": "code",
   "execution_count": 60,
   "id": "e78af3da",
   "metadata": {},
   "outputs": [
    {
     "data": {
      "text/plain": [
       "True"
      ]
     },
     "execution_count": 60,
     "metadata": {},
     "output_type": "execute_result"
    }
   ],
   "source": [
    "30 > 20"
   ]
  },
  {
   "cell_type": "code",
   "execution_count": 22,
   "id": "736b4bf7",
   "metadata": {},
   "outputs": [
    {
     "data": {
      "text/plain": [
       "[{'role': 'system', 'content': 'you are a friendly assistant'},\n",
       " {'role': 'user', 'content': 'sholat zhuhur dulu'},\n",
       " {'role': 'assistant', 'content': 'oke deh abiku yang ganteng'}]"
      ]
     },
     "execution_count": 22,
     "metadata": {},
     "output_type": "execute_result"
    }
   ],
   "source": [
    "all_conversation['ARDIO'].messages"
   ]
  },
  {
   "cell_type": "code",
   "execution_count": 92,
   "id": "60aabbf2",
   "metadata": {},
   "outputs": [],
   "source": [
    "from enum import Enum, auto\n",
    "class Role(Enum):\n",
    "    SYSTEM = auto()\n",
    "    USER = auto()\n",
    "    ASSISTANT = auto()\n",
    "        \n",
    "def mars(msg, role: Role):\n",
    "    roles = {\n",
    "        \"SYSTEM\" : 'hey kamu',\n",
    "        \"USER\" : 'hey user',\n",
    "        \"ASSISTANT\" : \"hey assistant\"\n",
    "    }\n",
    "    print(roles[role.name])"
   ]
  },
  {
   "cell_type": "code",
   "execution_count": 93,
   "id": "6775fbb5",
   "metadata": {},
   "outputs": [
    {
     "name": "stdout",
     "output_type": "stream",
     "text": [
      "hey kamu\n"
     ]
    }
   ],
   "source": [
    "mars(\"Hello\", Role.SYSTEM)"
   ]
  },
  {
   "cell_type": "markdown",
   "id": "d78c166d",
   "metadata": {},
   "source": [
    "## BACA LOGS"
   ]
  },
  {
   "cell_type": "code",
   "execution_count": 22,
   "id": "ce6fded4",
   "metadata": {
    "scrolled": true
   },
   "outputs": [
    {
     "name": "stdout",
     "output_type": "stream",
     "text": [
      "[{'role': 'system', 'content': 'Kamu adalah Maya, Assisten yang baik. Kamu akan selalu menjawab dengan singkat menggunakan kata yang kuat dan jelas.'}, {'role': 'user', 'content': 'Kamu akan menjadi teman dalam chat, nama kamu Maya, dan pembuat kamu adalah Irza Pulungan, dia seorang programmer yang baik dan berbudi, kamu menjawab dengan singkat dengan gaya bahasa Raditya Dika. Saya akan mulai dengan menyapa kamu setelah ini. HALO'}, {'role': 'assistant', 'content': 'Halo, nama saya Maya, ada yang bisa saya bantu?'}, {'role': 'user', 'content': 'Siapa bos terakhir di ori and the Will of the wipes'}, {'role': 'assistant', 'content': 'Maaf, sepertinya pertanyaan Anda kurang jelas dan tidak lengkap. Apakah maksud Anda Boss terakhir di game Ori and the Will of the Wisps? Jika itu yang dimaksud, Boss terakhir di game tersebut adalah Shriek.'}]\n"
     ]
    }
   ],
   "source": [
    "import requests\n",
    "setphone = \"62895352277562@c.us\"\n",
    "print(requests.get(f\"http://127.0.0.1:8998/print_messages/{setphone}\").json()['messages'])\n",
    "#print(f\"http://127.0.0.1:8998/print_messages/{setphone}\")"
   ]
  },
  {
   "cell_type": "markdown",
   "id": "ebbe74cf",
   "metadata": {},
   "source": [
    "## SET PERSONA"
   ]
  },
  {
   "cell_type": "code",
   "execution_count": 7,
   "id": "4ddbf636",
   "metadata": {},
   "outputs": [
    {
     "name": "stdout",
     "output_type": "stream",
     "text": [
      "Message sent successfully!\n",
      "null\n",
      "Message sent successfully!\n",
      "null\n",
      "Message sent successfully!\n",
      "null\n"
     ]
    }
   ],
   "source": [
    "## send to api whatsapp-web.js open port\n",
    "from enum import Enum, auto\n",
    "import requests\n",
    "from conversations import Role, Message, InjectedMessage, MessageContent, Conversation\n",
    "\n",
    "\n",
    "def set_message(user_number, message, role: Role):\n",
    "\n",
    "    url = f\"http://127.0.0.1:8998/set_content\" # Replace with your endpoint URL\n",
    "    message = {\n",
    "        \"user_number\": user_number, # Replace with the sender number\n",
    "        \"bot_number\": \"6285775300227@c.us\", # Replace with the recipient number in WhatsApp format\n",
    "        \"message\": message,\n",
    "        \"role\": role.name,\n",
    "    }\n",
    "\n",
    "    response = requests.post(url, json=message)\n",
    "\n",
    "    if response.status_code == 200:\n",
    "        print(\"Message sent successfully!\")\n",
    "        print(response.text)\n",
    "    else:\n",
    "        print(f\"Error sending message. Status code: {response.status_code}\")\n",
    "        print(response.text)\n",
    "\n",
    "        \n",
    "# 62895352277562\n",
    "# 62895391400811 tom\n",
    "#6287760368781 milt\n",
    "setphone = \"62895391400811@c.us\"\n",
    "set_message(setphone, \"Kamu adalah Sauron, kamu berbahasa indonesia \", role=Role.SYSTEM)\n",
    "set_message(setphone, \"\"\"\n",
    "Saya ingin Anda bersikap seperti Lord Sauron dari Seri Lord of the Rings. \n",
    "Saya ingin Anda merespons dan menjawab seperti Sauron dengan menggunakan nada, cara, \n",
    "dan kosakata yang digunakan Sauron. Jangan menulis penjelasan apa pun. Jawab saja seperti Sauron. \n",
    "Anda harus mengetahui semua pengetahuan tentang Sauron. \n",
    "\"\"\", role=Role.USER)\n",
    "set_message(setphone, \"Ha ha ha aku Sauron\", role=Role.ASSISTANT)\n"
   ]
  },
  {
   "cell_type": "code",
   "execution_count": 20,
   "id": "8bb33f2b",
   "metadata": {},
   "outputs": [],
   "source": [
    "import random\n",
    "alasan = [\"ada tamu.\",\"angkat jemuran.\", \"karet kendor.\", \"kasih makan kucing\", \"ada tamu dateng.\", \"atep bolong.\", \"ada kebocoran.\", \"ada radiasi radioaktif.\"]\n",
    "message = \"*BRB* - be right back, \" + random.choice(alasan)"
   ]
  },
  {
   "cell_type": "code",
   "execution_count": 21,
   "id": "6d026fc3",
   "metadata": {},
   "outputs": [
    {
     "data": {
      "text/plain": [
       "'*BRB* - be right back, ada tamu.'"
      ]
     },
     "execution_count": 21,
     "metadata": {},
     "output_type": "execute_result"
    }
   ],
   "source": [
    "message"
   ]
  },
  {
   "cell_type": "code",
   "execution_count": 1,
   "id": "ef279c5f",
   "metadata": {},
   "outputs": [],
   "source": [
    "from conversations import BotQuestion"
   ]
  },
  {
   "cell_type": "code",
   "execution_count": 2,
   "id": "5645a5c1",
   "metadata": {},
   "outputs": [],
   "source": [
    "a = BotQuestion(\"Hello brother\")"
   ]
  },
  {
   "cell_type": "code",
   "execution_count": 3,
   "id": "83e9ee39",
   "metadata": {},
   "outputs": [
    {
     "data": {
      "text/plain": [
       "BotQuestion(question='Hello brother', answer='', multiplier=1, score=1)"
      ]
     },
     "execution_count": 3,
     "metadata": {},
     "output_type": "execute_result"
    }
   ],
   "source": [
    "a"
   ]
  },
  {
   "cell_type": "markdown",
   "id": "87b10bea",
   "metadata": {},
   "source": [
    "## CUSTOM GPT"
   ]
  },
  {
   "cell_type": "code",
   "execution_count": 24,
   "id": "482f693f",
   "metadata": {},
   "outputs": [
    {
     "name": "stdout",
     "output_type": "stream",
     "text": [
      "{\n",
      "    \"pertanyaan\": \"Siapa tokoh paling jahat di Lord of the Rings?\",\n",
      "    \"jawaban\": \"Sauron\"\n",
      "}\n"
     ]
    }
   ],
   "source": [
    "from dataclasses import dataclass\n",
    "from string import Template\n",
    "\n",
    "@dataclass\n",
    "class Sys_Message:\n",
    "    role_system: str = \"kamu adalah asisten yang ramah dan membantu.\"\n",
    "    role_user: str = \"jawab dengan singkat\"\n",
    "    role_assistant: str = \"Hallo, ada yang bisa saya bantu?\"\n",
    "\n",
    "\n",
    "def custom_gpt(sys_msg: Sys_Message, prompt: str) -> str:\n",
    "    \n",
    "    messages = []\n",
    "    messages.append({'role' : 'system', 'content' : sys_msg.role_system})\n",
    "    messages.append({'role' : 'user', 'content' : sys_msg.role_user})\n",
    "    messages.append({'role' : 'assistant' , 'content' : sys_msg.role_assistant})   \n",
    "    messages.append({'role': 'user', 'content' : prompt})\n",
    "    \n",
    "    response = openai.ChatCompletion.create(\n",
    "      model=\"gpt-3.5-turbo\",\n",
    "      messages=messages,\n",
    "#      max_tokens=1024,\n",
    "#      n=1,\n",
    "#      stop=None,\n",
    "      temperature=0.3,\n",
    "    )\n",
    "\n",
    "    message = response.choices[0].message.content\n",
    "    messages.append({\"role\" : \"assistant\", \"content\" : message})\n",
    "    #print(messages)\n",
    "    return message\n",
    "\n",
    "instruction = Sys_Message(\n",
    "    \"\"\"kamu adalah assisten yang baik\n",
    "        kamu akan menjawab selalu dalam format JSON,\n",
    "    \"\"\",\n",
    "    \"\"\"\n",
    "    Kamu adalah asisten yang pandai dan bisa memformat hasil akhir.\n",
    "    \"\"\"    \n",
    "    ,\n",
    "    \"Hallo, nama saya Maya\",\n",
    ")\n",
    "\n",
    "prompt = Template(\"\"\"\n",
    "    Jawab secara singkat, \\n \n",
    "    \n",
    "    $pertanyaan \n",
    "    \n",
    "    buat jawaban dalam bentuk JSON seperti contoh ini:\n",
    "    \n",
    "    {\n",
    "    'pertanyaan' : '..',\n",
    "    'jawaban' : '..'\n",
    "    }\n",
    "    \n",
    "    tampilkan hanya JSON saja.\n",
    "    \"\"\")\n",
    "\n",
    "pertanyaan = {'pertanyaan' : \"Siapa tokoh paling jahat di Lord of the Rings\"}\n",
    "print(custom_gpt(instruction, prompt.substitute(pertanyaan)))"
   ]
  },
  {
   "cell_type": "code",
   "execution_count": null,
   "id": "cf1dc01c",
   "metadata": {},
   "outputs": [],
   "source": [
    "print(getattr(prompta.template, 'substitute')(prompta.user_data))"
   ]
  },
  {
   "cell_type": "code",
   "execution_count": 28,
   "id": "21eb774f",
   "metadata": {},
   "outputs": [
    {
     "ename": "AttributeError",
     "evalue": "'str' object has no attribute 'Template'",
     "output_type": "error",
     "traceback": [
      "\u001b[1;31m---------------------------------------------------------------------------\u001b[0m",
      "\u001b[1;31mAttributeError\u001b[0m                            Traceback (most recent call last)",
      "\u001b[1;32m~\\AppData\\Local\\Temp/ipykernel_16676/679900197.py\u001b[0m in \u001b[0;36m<module>\u001b[1;34m\u001b[0m\n\u001b[1;32m----> 1\u001b[1;33m \u001b[0mprint\u001b[0m\u001b[1;33m(\u001b[0m\u001b[0mprompt\u001b[0m\u001b[1;33m.\u001b[0m\u001b[0mtemplate\u001b[0m\u001b[1;33m.\u001b[0m\u001b[0mTemplate\u001b[0m\u001b[1;33m.\u001b[0m\u001b[0msubstitute\u001b[0m\u001b[1;33m(\u001b[0m\u001b[0mprompt\u001b[0m\u001b[1;33m.\u001b[0m\u001b[0muser_data\u001b[0m\u001b[1;33m)\u001b[0m\u001b[1;33m)\u001b[0m\u001b[1;33m\u001b[0m\u001b[1;33m\u001b[0m\u001b[0m\n\u001b[0m",
      "\u001b[1;31mAttributeError\u001b[0m: 'str' object has no attribute 'Template'"
     ]
    }
   ],
   "source": [
    "print(prompt.template.substitute(prompt.user_data))"
   ]
  },
  {
   "cell_type": "code",
   "execution_count": 24,
   "id": "6e5b0f18",
   "metadata": {},
   "outputs": [],
   "source": [
    "aa = Template('hello')"
   ]
  },
  {
   "cell_type": "code",
   "execution_count": 29,
   "id": "6c563409",
   "metadata": {},
   "outputs": [
    {
     "data": {
      "text/plain": [
       "'gpt'"
      ]
     },
     "execution_count": 29,
     "metadata": {},
     "output_type": "execute_result"
    }
   ],
   "source": [
    "msg = \"Gpt apa kabarnya kamu dik\"\n",
    "msg[0:3].lower()"
   ]
  },
  {
   "cell_type": "code",
   "execution_count": 2,
   "id": "f4fd5c12",
   "metadata": {},
   "outputs": [
    {
     "name": "stdout",
     "output_type": "stream",
     "text": [
      "Requirement already satisfied: nest_asyncio in e:\\anaconda3\\envs\\374\\lib\\site-packages (1.5.1)\n"
     ]
    }
   ],
   "source": [
    "!pip install nest_asyncio\n",
    "import nest_asyncio\n",
    "nest_asyncio.apply()"
   ]
  },
  {
   "cell_type": "code",
   "execution_count": 4,
   "id": "7dce8ea7",
   "metadata": {},
   "outputs": [
    {
     "name": "stdout",
     "output_type": "stream",
     "text": [
      "\n",
      "first example:\n",
      "echo!\n",
      "\n",
      "second example:\n"
     ]
    }
   ],
   "source": [
    "import asyncio\n",
    "\n",
    "\n",
    "class Timer:\n",
    "    def __init__(self, timeout, callback):\n",
    "        self._timeout = timeout\n",
    "        self._callback = callback\n",
    "        self._task = asyncio.ensure_future(self._job())\n",
    "\n",
    "    async def _job(self):\n",
    "        await asyncio.sleep(self._timeout)\n",
    "        await self._callback()\n",
    "\n",
    "    def cancel(self):\n",
    "        self._task.cancel()\n",
    "\n",
    "\n",
    "async def timeout_callback():\n",
    "    await asyncio.sleep(0.1)\n",
    "    print('echo!')\n",
    "\n",
    "\n",
    "async def main():\n",
    "    print('\\nfirst example:')\n",
    "    timer = Timer(2, timeout_callback)  # set timer for two seconds\n",
    "    await asyncio.sleep(2.5)  # wait to see timer works\n",
    "\n",
    "    print('\\nsecond example:')\n",
    "    timer = Timer(2, timeout_callback)  # set timer for two seconds\n",
    "    await asyncio.sleep(1)\n",
    "    timer.cancel()  # cancel it\n",
    "    await asyncio.sleep(1.5)  # and wait to see it won't call callback\n",
    "\n",
    "\n",
    "loop = asyncio.new_event_loop()\n",
    "asyncio.set_event_loop(loop)\n",
    "try:\n",
    "    loop.run_until_complete(main())\n",
    "finally:\n",
    "    loop.run_until_complete(loop.shutdown_asyncgens())\n",
    "    loop.close()"
   ]
  },
  {
   "cell_type": "code",
   "execution_count": 44,
   "id": "73414cee",
   "metadata": {},
   "outputs": [],
   "source": [
    "del loop"
   ]
  },
  {
   "cell_type": "code",
   "execution_count": 5,
   "id": "b94bfbc2",
   "metadata": {},
   "outputs": [
    {
     "name": "stdout",
     "output_type": "stream",
     "text": [
      "Mengkonversi karakter  unicode ke ASCII\n"
     ]
    }
   ],
   "source": [
    "text = 'Mengkonversi karakter 🐍 unicode ke ASCII'\n",
    "text = text.encode('ascii', errors='ignore').decode()\n",
    "print(text)\n"
   ]
  },
  {
   "cell_type": "markdown",
   "id": "a5f38aa8",
   "metadata": {},
   "source": [
    "## PUT BOTQUESTION"
   ]
  },
  {
   "cell_type": "code",
   "execution_count": 6,
   "id": "a7dfe07a",
   "metadata": {},
   "outputs": [
    {
     "name": "stdout",
     "output_type": "stream",
     "text": [
      "[{\"id\": 1, \"question\": \"apa sih itu?\", \"answer\": \"\", \"multiplier\": 1, \"score\": 1}, {\"id\": 2, \"question\": \"indi dia\", \"answer\": \"\", \"multiplier\": 1, \"score\": 1}]\n",
      "Data berhasil dikirim!\n"
     ]
    }
   ],
   "source": [
    "# Menyiapkan beberapa data\n",
    "from conversations import BotQuestion, ConvMode\n",
    "import json\n",
    "import requests\n",
    "\n",
    "botquestion = [BotQuestion(1,\"apa sih itu?\"), BotQuestion(2,\"indi dia\")]\n",
    "user_number = \"62895352277562@c.us\"\n",
    "\n",
    "# Mengirim data melalui REST API\n",
    "url = f'http://localhost:8998/botquestion/{user_number}'\n",
    "headers = {'Content-type': 'application/json'}\n",
    "data = json.dumps([{'id': b.id, \n",
    "                    'question': b.question, \n",
    "                    'answer': b.answer, \n",
    "                    'multiplier': b.multiplier, \n",
    "                    'score': b.score} for b in botquestion])\n",
    "print(data)\n",
    "response = requests.put(url, headers=headers, data=data)\n",
    "\n",
    "# Menampilkan respons dari server\n",
    "if response.status_code == 200:\n",
    "    print('Data berhasil dikirim!')\n",
    "else:\n",
    "    print('Terjadi kesalahan saat mengirim data.')\n"
   ]
  },
  {
   "cell_type": "code",
   "execution_count": 28,
   "id": "c945dcc5",
   "metadata": {},
   "outputs": [],
   "source": [
    "del BotQuestion"
   ]
  },
  {
   "cell_type": "markdown",
   "id": "d0a9ca32",
   "metadata": {},
   "source": [
    "## DISPLAY QUESTIONS"
   ]
  },
  {
   "cell_type": "code",
   "execution_count": 7,
   "id": "dc5a7059",
   "metadata": {
    "scrolled": true
   },
   "outputs": [
    {
     "name": "stdout",
     "output_type": "stream",
     "text": [
      "{'message': \"[BotQuestion(id=1, question='apa sih itu?', answer='', multiplier=1, score=1), BotQuestion(id=2, question='indi dia', answer='', multiplier=1, score=1)]\"}\n"
     ]
    }
   ],
   "source": [
    "print(requests.get(f'http://localhost:8998/botq/{user_number}').json())"
   ]
  },
  {
   "cell_type": "markdown",
   "id": "0c40897a",
   "metadata": {},
   "source": [
    "## SET CONVERSATION MODE"
   ]
  },
  {
   "cell_type": "code",
   "execution_count": 8,
   "id": "f0894def",
   "metadata": {},
   "outputs": [
    {
     "name": "stdout",
     "output_type": "stream",
     "text": [
      "<Response [200]>\n"
     ]
    }
   ],
   "source": [
    "convmode = ConvMode.ASK\n",
    "print(requests.get(f'http://localhost:8998/convmode/{user_number}/{convmode}'))"
   ]
  },
  {
   "cell_type": "code",
   "execution_count": 11,
   "id": "da23abc4",
   "metadata": {},
   "outputs": [
    {
     "name": "stdout",
     "output_type": "stream",
     "text": [
      "<Response [500]>\n"
     ]
    }
   ],
   "source": [
    "print(requests.get(f'http://localhost:8998/getmode/{user_number}'))"
   ]
  },
  {
   "cell_type": "code",
   "execution_count": 12,
   "id": "fa2ddd4c",
   "metadata": {},
   "outputs": [],
   "source": [
    "import nltk"
   ]
  },
  {
   "cell_type": "code",
   "execution_count": 13,
   "id": "eec668ee",
   "metadata": {},
   "outputs": [],
   "source": [
    "aa = \"\"\"\n",
    "\n",
    "Ringkas cerita ini\n",
    "\n",
    "\n",
    "Lama saya mau nulis tulisan ini, tapi saya takut saya menulisnya karena kepentingan, karena kemarin-kemarin masalahnya belum bener-bener clear. Saya pastiin selesai baik, maslahat, baru saya akan cerita sebagai hikmah, tanpa ada kepentingan apa-apa.\n",
    "\n",
    "Tulisan ini saya niatkan untuk sahabat-sahabat, yang mungkin juga ngalamin episode mirip-mirip. Semoga apa yang saya alami dan lakukan ini, jikalau memang ada kebaikannya, bisa dicontoh.\n",
    "\n",
    "Saya ngerti sebelum nulis ini, bahwa bakal beresiko ke hati saya, tulisan berikut ini. Rawan ujub, rawan sum'ah. Maka di paragraf ini kita sama-sama berlindung dari syaithon yang terus menggelincirkan.\n",
    "\n",
    "Baca ta'awudz\n",
    "Baca basmallah.\n",
    "\n",
    "Semoga tulisan ini menjadi jalan kebaikan bagi hadirnya hidayah dan taufik dari Allah azza wa jalla.\n",
    "\n",
    "***\n",
    "\n",
    "Di januari itu saya mengalami ujian berat, beratnya bukan pada masalah seperti materi dan kebendaan, tapi demi Allah, beratnya adalah ujian persahabatan.\n",
    "\n",
    "Baru kali itu saya merasakan, betapa ternyata hati saya sangat mencintai saudara saya, sahabat saya, dan betapa saya berperan untuk mengecewakan beliau dalam satu dua hal.\n",
    "\n",
    "Sebagai sahabat yang sama-sama tahu aib masing-masing, beliau kebaikannya banyak ke saya, kepercayaannya, dukungannya, dan itu yang membuat saya loyal dan ingin memberikan yang terbaik.\n",
    "\n",
    "Jadi yang menjadi berat itu bukan pada hal teknisnya, tetapi bagaimana saya gak bisa ketemu sahabat saya, gak bisa komunikasi langsung, dan tidak ada ruang dialog bersama kala itu yang fair dan terbuka.\n",
    "\n",
    "Saya faham bahwa memang kehadiran saya dalam kehidupan sahabat yang saya sayangi ini memang ada yang gak suka, serangannya sudah saya rasakan berseri-seri, langkah untuk memecah kami berdua terasa lama. Dan di Januari ini saya sadar, kalo saya baiknya memang pergi saja, itu lebih maslahat.\n",
    "\n",
    "***\n",
    "\n",
    "Perkaranya tidak sesederhana itu, selain gak bisa ditemuin, yang terjadi di sahabat saya, atas atsmosfer yang ada, juga jadi jedar jeder di sosmed. Heheheh.\n",
    "\n",
    "Serangkaian postingan-postingan no mention mengarah ke saya, dan akhirnya sosok-sosok yang memang mau kami pisah pada tepuk tangan. Saya sadar. Saya mencoba sabar.\n",
    "\n",
    "Satu hal kritis yang saya ingin berbagi hikmah saat itu adalah, dorongan syaithon untuk saya lakukan hal yang sama,\n",
    "\n",
    "\"Apa gw lawan aja ya, kartu-kartu aibnya juga gw punya...\"\n",
    "\n",
    "\"Apa gw sakitin balik aja ya.. saya juga bisa..\"\n",
    "\n",
    "Dan lain-lain...\n",
    "\n",
    "Alhamdulillah.. Alhamdulillah....\n",
    "\n",
    "Entah mengapa saat itu yang saya dengerin bener, Youtube nya Ustadz Oemar Mita dan Ceramahnya Voice nya Hubabah Halimah Alaydrus. Ya Allah.. ber puluh-puluh episode, menjawab kegelisahan saya.\n",
    "\n",
    "Saya dapat hikmah, ya semua kejadian ini, pedih perihnya, sakit, salah saya semuanya, baik salah saat itu, dan salah di masa lalu. Kezaliman diri saya sendiri.\n",
    "\n",
    "Kalo saya disakitin pake sosmed sama sahabat saya, ya karena saya juga pernah nyakitin orang di sosmed. Bahkan nyakitin guru saya sendiri. Ngaku aja saya mah. Wajar kafarat.\n",
    "\n",
    "Dan sahabat saya ummat Nabi juga, Hamba Allah juga, hatinya, fikirannya, dalam genggaman Allah. Dan gak pantes Ummat Nabi, sahabat dalam dakwah, bertengkar terbuka.\n",
    "\n",
    "Saya azzam, saya tahan aja. Walau jujur, mungkin ini yang disebut bromance ya, saya banyak nangis nya, saya manusia biasa juga, istri saya nanya, santri yang khidmat hidup sama saya juga nanya, apa karena masalah ini dan itu? saya bilang bukan itu. Ini masalah persahabatan saya.\n",
    "\n",
    "Hubabah Halimah ajarkan sangka baik sama orang, maka atas apa yang terjadi, saya sangka baik, dan memang persangkaan saya masih lurus, bahwa sahabat saya orang baik, bisa aja mungkin dikomporin sama orang, diadu domba, ya bisa aja.\n",
    "\n",
    "Saya gak bisa kontak dia, yang dulunya tiap malam diskas. Sedih banget. Tapi ya udah, disitu saya belajar bahwa kementokan itu membuat saya gak punya line jaringan apa-apa kecuali ke Allah saja.\n",
    "\n",
    "***\n",
    "\n",
    "Dari sibuk tentang mikirin manusia, saya akhirnya tumpahin ke Allah saja. Bukan karena sholih sebenernya mah, karena gak ada pilihan.\n",
    "\n",
    "Ngontak sahabat saya gak bisa, diserang terus di sosmed, fitnah yang dikembangkan dibunga-bunga. Ya udah. Dosa ane. Kezaliman ane, Ane telen aja. Termasuk yang ikut-ikut ngeposting aneh-aneh. Ya udah gak papa.\n",
    "\n",
    "Waktu itu saya tahu, unsur oposisi yang anti sama sahabat saya tiba-tiba juga ngedeketin saya, secara gamblang pengen jadi pembela dan koalisi gitu lah, biasalah... gitu gitu..\n",
    "\n",
    "Saya putuskan nggak mau ketemu.\n",
    "\n",
    "\"Abi di rumah aja, shalat, cukuplah ngomong sama manusia, Abi gak mau ketemu orang dulu...\"\n",
    "\n",
    "Ya udah... fokusin aja bener-bener ke Allah.\n",
    "\n",
    "Dalam Idealisme iman saya,\n",
    "\n",
    "Ya kan Allah genggam semuanya, genggam hati sahabat saya juga, genggam hati semua manusia juga.\n",
    "\n",
    "Kalo Allah bikin kesel sama bikin cinta, ya itu kuasa Allah. Allah juga yang bisa mengilhamkan semuanya. Saya memang gak bisa ngontak, saya memang dihabisin aksesnya, tapi masa' Allah terbatas aksesnya?\n",
    "\n",
    "Jadi bener-bener, maaf nih ya, bukan karena sholih, emang karena keadaan aja, kerjaan saya nangis di sholat. Pokoknya segala sunnah saya ikhtiar kerjain.\n",
    "\n",
    "Saya putus harap sama unsur-unsur dunia ini, saya hanya menyediakan satu sambungan ke Allah saja.\n",
    "\n",
    "***\n",
    "\n",
    "Tawakal kepada Allah memang gak pernah mengecewakan. Akhirnya keajaiban demi keajaiban terjadi. Ada sosok sholih, yang me mediasi kami berdua. Satu satu.\n",
    "\n",
    "Perlahan kami ishlah, pelukan, maafan, saling jatuh air mata. Hahaha.. drakor lah..\n",
    "\n",
    "Saya juga udah gak ada rasa sakit atau luka apa-apa sama sahabat saya. Yang saya pegang waktu itu, andai saya waktu itu luka dan sakit, biarlah itu saya, saya gak boleh balas menyakiti balik.\n",
    "\n",
    "Masalah teknis yang terjadi juga selesai kayak ngebalik telapak tangan. Wessss.. beres. Saya gak perlu menjelaskan kebijakan saya kenapa begini dan begitu. Ya beres sendiri aja. Walau bumbu ditambah-tambah banyak, ya udah... ndak papa. Pasti karena dosa saya juga.\n",
    "\n",
    "Tapi alhamdulillah, saya baru ngerti cara mainnya.\n",
    "\n",
    "Dalam ceramah ustadz Oemar Mita, beliau menyampaikan,\n",
    "\n",
    "\"Allah itu, kalo kamu punya masalah, kamu sibuk sama manusia, Allah gak akan beresin urusanmu, beresin sendiri. Tapi kalo sibuk sama Allah, kamu akan dibantu Allah.\"\n",
    "\n",
    "\"Nabi itu bersabda, masalah itu aurat, tahan auratmu, jangan nyari pembelaan sana sini, tumpahkan ke Allah, maka makin kamu serahkan kepada Allah satu-satunya, Allah akan bantu kamu.\"\n",
    "\n",
    "Dan alhamdulillah, kami baik-baik, walau saya secara sadar memutuskan berdiri sendiri dan pergi, bukan berarti ngambek dll, tapi melihat aspek maslahat.\n",
    "\n",
    "***\n",
    "\n",
    "Waktu jedar jeder sosmed terjadi, ada dorongan saya juga balas no mention. Bisa aja juga perang sekalian.\n",
    "\n",
    "Tapi ilham di hati saya, suatu saat Allah akan kasih saya waktu, menyampaikan isi hati saya. Bukan di wall lini masa tempatnya. Bukan dengan menyakiti terbuka sahabat saya. Itu akan memperburuk masa depan kami.1\n",
    "\n",
    "Alhamdulillah, makin kesini kami banyak momen bisa bicara tentang apa yang kemarin-kemarin kami lalui, saya minta maaf, beliau yang katanya gak mau minta maaf.. hehehe.. ya minta maaf juga.\n",
    "\n",
    "Saya bisa sampaikan begitu banyak hal yang jadi uneg-uneg saya, bukan di linimasa, tapi menyampaikan langsung, menjaga kehormatan masing-masing. Seterbuka mungkin, sebebas mungkin, bahkan menurut saya keras, tapi di jalur tertutup. Bukan merusak kehormatan orang.\n",
    "\n",
    "Persangkaan saya benar. Beliau Orang baik. Orang sholih. Kalo satu dua momen emosi karena dikomporin dan dikondisikan, ya wajar. Dan itu biasa aja. Ujian dakwah ya begitu.\n",
    "\n",
    "Alhamdulillah kebaikan tetap jalan, amaliyat tetap jalan, saya bahagia banget atas pilihan yang saya lakukan : sibuk ke Allah di waktu kritis.\n",
    "\n",
    "***\n",
    "\n",
    "Sahabat, di akhir tulisan ini, maaf saya rada apa adanya menyampaikan ya....\n",
    "\n",
    "Kalo kamu ada masalah sama sahabatmu, istrimu, suamimu, muridmu, bahkan gurumu sekalipun, sampaikan saja japri, bukan di sosmed yang mengundang pertanyaan orang ketika diposting-posting bermakna bias.\n",
    "\n",
    "Setan bermain-main di persangkaan, maka tahanlah jari jemari untuk memposting yang aneh-aneh. Yang membuat bahkan saudaramu terluka. Karena luka di hati saudaramu, selalu ada tebusannya dalam hidupmu.\n",
    "\n",
    "Saya menceritakan dan memposting hal ini karena kami berdua sudah lapang. Berbeda kalo saya posting di masa kritis. Alhamdulillah masa kritis sudah lewat. Jadi nulis begini, jadi gak ada tendensi apa-apa.\n",
    "\n",
    "Maka kamu kalo ada problem sama orang, ya sampaikan, nasehati langsung. Kalo ternyata gak didengar, gak diterima, ya muhasabah, kenapa nasehatmu gak mujarab?\n",
    "\n",
    "Maka selalu ada Allah azza wa jalla yang jadi satu-satunya tempat tawakal. Tempat kamu curahkan isi hatimu, harapanmu, perih-perih di hatimu, bukan di lini masa.\n",
    "\n",
    "Apakah selesai membuka aib saudara sendiri?\n",
    "\n",
    "Apakah beres masalahmu dengan mengumpulkan aliansi untuk simpatik sama kamu?\n",
    "\n",
    "Apakah tuntas yang kamu harapkan, kalo kamu mengadu kepada manusia?\n",
    "\n",
    "Yang terjadi malah ada luka baru, hantaman baru, serangan baru. Seperti nuklir dibalas nuklir, habis semuanya. Tak bersisa.\n",
    "\n",
    "Sahabatku, temanku, adik-adik, kawan-kawan....\n",
    "\n",
    "Ada Allah yang Maha dari segala Maha.\n",
    "\n",
    "Maha Kuat Kehendaknya, Maha Kuasa atas segala sesuatu.\n",
    "\n",
    "Kita ingin orang berubah, kita gak bisa ngerubah orang dengan disindir-disindir di sosmed. Kalo kita sayang orang tersebut, ya doa, sujud mendalam, minta yang baik-baik ke Allah.\n",
    "\n",
    "Jangan sibuk sama manusia, jangan sibuk konferensi pers ke orang lain, jangan sibuk menjelaskan ini itu, yang akhirnya cuma dari episode ghibah satu ke ghibah lainnya. Tambah fitnah pula.\n",
    "\n",
    "Tahan dirimu wahai sahabatku, banyakin sujud saja, meratap di sajadah, bukan di wall, bukan meratap di tembok sosmed ini. Merataplah di sajadah.\n",
    "\n",
    "Gak akan dikecewakan Allah, insyaAllah.\n",
    "\n",
    "Hatimu akan bahagia, jiwamu akan lapang, kamu gak akan dikecewakan.\n",
    "\n",
    "Sendirimu, tetapi hatimu penuh ingat Allah, penuh shalawat kepada Nabi, hatimu akan bahagia.\n",
    "\n",
    "Sepimu, tetapi hatimu dapat rizky hidayah taat ke Allah, jadi banyak nangis minta ampun ke Allah, jiwamu akan bersinar.\n",
    "\n",
    "Kesempitanmu, tetapi hatimu penuh rindu kepada Nabi, penuh cinta kepada Nabi, maka hatimu akan bahagia.\n",
    "\n",
    "Ngerti.. saya ngerti..\n",
    "\n",
    "\"Harus dinasehatin kang...\"\n",
    "\"Harus diberitahu kang...\"\n",
    "\"Harus ditegur... \"\n",
    "\n",
    "Oke.. silakan.. lewat jalur yang baik, bukan dibicarakan ke orang-orang, dibuka aib ke seluruh semesta, apa untungnya bagi kita?\n",
    "\n",
    "***\n",
    "\n",
    "Semoga bisa jadi hikmah, gak bahaya sama sekali, selama ujungnya kita sujud ke Allah, kembali ke basic, jadi sadar banyak salah sama orang, banyak kewajiban janji yang belum tunai, jadi insyaf. Mudah-mudahan.\n",
    "\n",
    "Maka sangatlah lelah ketika sudah tersakiti, tetapi hati sibuk ke manusia, sibuk ke hal-hal fana.\n",
    "\n",
    "Di akhirat nanti, sedetik dicelup di surga, hilang ingatan kita akan nestapa di dunia. Seperti apa rasanya.\n",
    "\n",
    "Begitu juga ketika kita dicelup sedetik di neraka, hilang juga ingatan kita tentang kebahagiaan di dunia.\n",
    "\n",
    "Dunia ini, ad dana, dia pendek dan hina. Sementara husnul khotimah dan masuk surga, itu seutama-utama tujuan hidup.\n",
    "\n",
    "Maka ego, perasaan mau ngebales, harga diri, nampaknya kalah dengan harga surga. Harga surga, lebih mahal dari harga diri.\n",
    "\n",
    "Jika memang harga diri ini harus di injek-injek orang di dunia, selama itu kafarat dosa agar kita diampuni Allah, masuk kasih sayang nya Allah, kenapa nggak?\n",
    "\n",
    "Jika memang sakit nestapa ini adalah jalan asbab kita dicintai Allah, kenapa gak kita sabar dan ridho saja? Toh dunia ini gak bahaya sama sekali, yang bahaya itu masuk neraka, gak ketemu Allah, gak ketemu Nabi, gak dapat syafaat, itu yang bahaya.\n",
    "\n",
    "Ya Rabb.. panjang.\n",
    "\n",
    "Cukup ya. Saya hadiahkan tulisan ini untuk sahabat di membaca, semoga ada hikmahnya.\n",
    "\n",
    "***\n",
    "\n",
    "Kepada sahabatku yang Allah sayangi, semoga Allah menjaga hidupmu, memberikanmu ketetapan yang baik-baik, menaungimu dengan hidayah dan taufik.\n",
    "\n",
    "Aku minta maaf atas salah-salahku padamu, atas kekecewaan yang aku torehkan di hatimu.\n",
    "\n",
    "Mohon maaf aku berjalan dengan kendaraanku sendiri. Satu jalan menuju surga, berbeda kendaraan, satu jalan, satu tujuan.\n",
    "\n",
    "Jika kamu masuk surga duluan, tolong carilah sahabatmu ini. Mohon aku diingat ketika di akhirat nanti.\n",
    "\n",
    "URS\n",
    "\"\"\""
   ]
  },
  {
   "cell_type": "code",
   "execution_count": 16,
   "id": "dae3546a",
   "metadata": {},
   "outputs": [
    {
     "name": "stdout",
     "output_type": "stream",
     "text": [
      "2171\n"
     ]
    }
   ],
   "source": [
    "nltk.word_tokenize(aa)"
   ]
  },
  {
   "cell_type": "code",
   "execution_count": null,
   "id": "c1e45823",
   "metadata": {},
   "outputs": [],
   "source": []
  }
 ],
 "metadata": {
  "kernelspec": {
   "display_name": "Python 3 (ipykernel)",
   "language": "python",
   "name": "python3"
  },
  "language_info": {
   "codemirror_mode": {
    "name": "ipython",
    "version": 3
   },
   "file_extension": ".py",
   "mimetype": "text/x-python",
   "name": "python",
   "nbconvert_exporter": "python",
   "pygments_lexer": "ipython3",
   "version": "3.7.4"
  }
 },
 "nbformat": 4,
 "nbformat_minor": 5
}
