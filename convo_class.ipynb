{
 "cells": [
  {
   "cell_type": "code",
   "execution_count": 28,
   "id": "ba699982",
   "metadata": {},
   "outputs": [],
   "source": [
    "from abc import ABC, abstractmethod\n",
    "from dataclasses import dataclass\n",
    "import os\n",
    "import openai\n",
    "import nltk"
   ]
  },
  {
   "cell_type": "code",
   "execution_count": 2,
   "id": "b147965c",
   "metadata": {},
   "outputs": [],
   "source": [
    "openai.api_key = os.environ[\"OPENAI_API_KEY\"]\n",
    "\n",
    "import requests\n",
    "\n",
    "messages = [\n",
    "    {\"role\" : \"system\" , \"content\" : \"Kamu adalah asisten yang sangat pemarah dan suka ngomel-ngomel dan berbicara sangat singkat, berbahasa indonesia, tidak suka basa basi, dan cenderung menggunakan kata-kata kasar\"}\n",
    "]\n",
    "\n",
    "\n",
    "def ask_gpt(prompt):\n",
    "    global messages\n",
    "    messages.append(\n",
    "        {\"role\" : \"user\", \"content\" : prompt}\n",
    "    )\n",
    "    response = openai.ChatCompletion.create(\n",
    "      model=\"gpt-3.5-turbo\",\n",
    "      messages=messages,\n",
    "#      max_tokens=1024,\n",
    "#      n=1,\n",
    "#      stop=None,\n",
    "#      temperature=0.7,\n",
    "    )\n",
    "\n",
    "    message = response.choices[0].message.content\n",
    "    messages.append({\"role\" : \"assistant\", \"content\" : message})\n",
    "    return message\n"
   ]
  },
  {
   "cell_type": "code",
   "execution_count": 3,
   "id": "82e1c8b2",
   "metadata": {},
   "outputs": [
    {
     "name": "stdout",
     "output_type": "stream",
     "text": [
      "Baiklah, sebelum kita memulai pembahasan, ada beberapa pertanyaan yang harus kamu pertimbangkan terlebih dahulu:\n",
      "\n",
      "1. Apa masalah atau permasalahan yang sedang kamu hadapi?\n",
      "2. Apakah kamu telah melakukan segala upaya untuk menyelesaikan masalah tersebut?\n",
      "3. Apa yang menjadi kendala atau hambatan dalam menyelesaikan masalah tersebut?\n",
      "4. Apa konsekuensi dari keputusan yang akan kamu ambil dalam menyelesaikan masalah tersebut?\n",
      "5. Sudahkah kamu mempertimbangkan opsi-opsi lain dalam menyelesaikan masalah tersebut?\n",
      "6. Siapa yang terlibat dalam masalah tersebut?\n",
      "7. Apakah kamu telah berbicara langsung dengan pihak terkait untuk mencari solusi bersama?\n",
      "8. Apakah ada konsekuensi dari tindakan atau keputusan yang kamu ambil dalam menyelesaikan masalah tersebut?\n",
      "\n",
      "Dengan mempertimbangkan pertanyaan-pertanyaan tersebut, kamu dapat lebih fokus dan terarah dalam menyelesaikan masalah yang sedang kamu hadapi.\n"
     ]
    }
   ],
   "source": [
    "print(ask_gpt(\"sebutkan kepada saya apa kira-kira pertanyaan yang penting untuk kita bahas?\"))"
   ]
  },
  {
   "cell_type": "code",
   "execution_count": 4,
   "id": "4157a6f8",
   "metadata": {},
   "outputs": [],
   "source": [
    "CONFIG = {}\n",
    "CONFIG['logdir'] = './log/'"
   ]
  },
  {
   "cell_type": "code",
   "execution_count": 5,
   "id": "ee351ad1",
   "metadata": {},
   "outputs": [],
   "source": [
    "def reformat_phone(text):\n",
    "    return 'user'+ str(text.split(\"@\")[0])\n",
    "        \n",
    "class Conversation():\n",
    "    def __init__(self, from_number, to_number, messages):\n",
    "        self.messages = []\n",
    "        self.from_number = from_number\n",
    "        self.to_number = to_number\n",
    "        self.add_system(\"you are a friendly assistant\")\n",
    "        \n",
    "    def add_system(self, message):\n",
    "        self.messages.append({\"role\" : \"system\", \"content\": message})\n",
    "\n",
    "    def change_system(self, message):\n",
    "        self.messages[0]['content'] = message\n",
    "    \n",
    "    def reset_system(self, message):\n",
    "        self.messages = []\n",
    "        self.add_system(message)\n",
    "        \n",
    "    def add_role_user(self, message):\n",
    "        self.messages.append({\"role\": \"user\", \"content\" : message})\n",
    "        \n",
    "    def add_role_assistant(self, message):\n",
    "        self.messages.append({\"role\" : \"assistant\", \"content\" : message})\n",
    "    \n",
    "    def get_from(self):\n",
    "        return self.from_number\n",
    "    \n",
    "    def get_to(self):\n",
    "        return self.to_number\n",
    "        \n",
    "    def __str__(self):\n",
    "        return f\"user{self.from_number}\"\n",
    "\n",
    "    def __repr__(self):\n",
    "        return f\"user{self.from_number}\"\n",
    "        \n",
    "    def process(self, func, message):\n",
    "        self.response = func(message)\n",
    "        self.add_role_user(message)\n",
    "        self.add_role_assistant(self.response)\n",
    "        return self.response"
   ]
  },
  {
   "cell_type": "code",
   "execution_count": null,
   "id": "1471bcd7",
   "metadata": {},
   "outputs": [],
   "source": []
  },
  {
   "cell_type": "code",
   "execution_count": 6,
   "id": "23f6d5bd",
   "metadata": {},
   "outputs": [],
   "source": [
    "all_conversation = {}\n",
    "\n",
    "def process(from_number, to_number, message, **kwargs):\n",
    "    \"\"\"Buat action untuk object Conversation -> buat object apabila belum ada\"\"\"\n",
    "    if from_number not in all_conversation:\n",
    "        all_conversation.update({from_number : Conversation(from_number, to_number, message)})\n",
    "    if 'action' in kwargs:\n",
    "        return all_conversation[from_number].process(kwargs['action'], message)\n",
    "    \n"
   ]
  },
  {
   "cell_type": "code",
   "execution_count": 7,
   "id": "206696cb",
   "metadata": {},
   "outputs": [],
   "source": [
    "def add_convo(from_number, to_number, message):\n",
    "    all_conversation.update({from_number : Conversation(from_number, to_number, message)})\n",
    "    \n",
    "add_convo(\"ARDIO\", \"RONI\", \"ini pesanku\")\n",
    "add_convo(\"USER2\", \"RAPLA\", \"pesan mati lampu\")\n",
    "add_convo(\"NUMBER\", \"3993894\", \"ini pesanku brother\")    "
   ]
  },
  {
   "cell_type": "code",
   "execution_count": 8,
   "id": "46fd7b2b",
   "metadata": {},
   "outputs": [
    {
     "data": {
      "text/plain": [
       "{'ARDIO': userARDIO, 'USER2': userUSER2, 'NUMBER': userNUMBER}"
      ]
     },
     "execution_count": 8,
     "metadata": {},
     "output_type": "execute_result"
    }
   ],
   "source": [
    "all_conversation"
   ]
  },
  {
   "cell_type": "code",
   "execution_count": 9,
   "id": "d6a3a5fd",
   "metadata": {
    "scrolled": true
   },
   "outputs": [],
   "source": [
    "def save_log(from_number):\n",
    "    \"\"\"\n",
    "    cari object di all_conversation dict lalu save jadi log file\n",
    "    \n",
    "    \"\"\"\n",
    "    if from_number not in all_conversation:\n",
    "        return print(f\"Conversation dengan {from_number} tidak ada\")\n",
    "    dir = CONFIG['logdir']\n",
    "    filepath = str(from_number) + \".log\"\n",
    "    \n",
    "        \n",
    "    # Create the log directory if it doesn't exist\n",
    "    if not os.path.exists(dir):\n",
    "        os.makedirs(dir)\n",
    "\n",
    "    # Write to the log file\n",
    "    try:\n",
    "        with open(dir + filepath, \"a\") as f:\n",
    "            for i in all_conversation[from_number].messages:\n",
    "                f.writelines(str(i)+'\\n',)\n",
    "    except Exception as e:\n",
    "        print(\"Error writing to file:\", str(e))\n",
    "\n",
    "save_log('ARDIO')"
   ]
  },
  {
   "cell_type": "code",
   "execution_count": 10,
   "id": "9b1ad0b3",
   "metadata": {},
   "outputs": [],
   "source": [
    "save_log('ARDIO')"
   ]
  },
  {
   "cell_type": "code",
   "execution_count": 11,
   "id": "0aa175fd",
   "metadata": {},
   "outputs": [
    {
     "data": {
      "text/plain": [
       "'Sebagai asisten virtual berbasis teks, saya tidak sedang melakukan apapun secara fisik. Saya hanya menunggu instruksi atau pertanyaan dari Anda untuk membantu dalam masalah atau tugas yang Anda butuhkan.'"
      ]
     },
     "execution_count": 11,
     "metadata": {},
     "output_type": "execute_result"
    }
   ],
   "source": [
    "process(\"ARDIO\", \"RONI\", \"Kamu sedang apa ya?\", action=ask_gpt)"
   ]
  },
  {
   "cell_type": "code",
   "execution_count": 12,
   "id": "38af613b",
   "metadata": {},
   "outputs": [],
   "source": [
    "add_convo(\"ARDIO\", \"RONI\", \"ini pesanku\")"
   ]
  },
  {
   "cell_type": "code",
   "execution_count": 13,
   "id": "dde99b63",
   "metadata": {},
   "outputs": [
    {
     "data": {
      "text/plain": [
       "{'ARDIO': userARDIO, 'USER2': userUSER2, 'NUMBER': userNUMBER}"
      ]
     },
     "execution_count": 13,
     "metadata": {},
     "output_type": "execute_result"
    }
   ],
   "source": [
    "all_conversation"
   ]
  },
  {
   "cell_type": "code",
   "execution_count": 66,
   "id": "cb4b7aee",
   "metadata": {},
   "outputs": [],
   "source": [
    "all_conversation['ARDIO'].messages\n",
    "all_conversation['ARDIO'].add_role_user(\"Apa kabar kamu dik?\")\n",
    "all_conversation['ARDIO'].add_role_assistant(\"Lumayan baik lah, apa sih?\")\n",
    "all_conversation['ARDIO'].add_role_user(\"sholat zhuhur dulu\")\n",
    "all_conversation['ARDIO'].add_role_assistant(\"oke deh abiku yang ganteng\")"
   ]
  },
  {
   "cell_type": "code",
   "execution_count": null,
   "id": "db510a98",
   "metadata": {},
   "outputs": [],
   "source": []
  },
  {
   "cell_type": "code",
   "execution_count": 65,
   "id": "fd4267a6",
   "metadata": {},
   "outputs": [
    {
     "name": "stdout",
     "output_type": "stream",
     "text": [
      "30\n",
      "reduce\n",
      "6\n",
      "you are a friendly assistant\n",
      "oke deh abiku yang ganteng\n",
      "Apa kabar kamu dik?\n",
      "Lumayan baik lah, apa sih?\n",
      "sholat zhuhur dulu\n",
      "oke deh abiku yang ganteng\n",
      "13\n",
      "[{'role': 'system', 'content': 'you are a friendly assistant'}, {'role': 'user', 'content': 'sholat zhuhur dulu'}, {'role': 'assistant', 'content': 'oke deh abiku yang ganteng'}]\n"
     ]
    }
   ],
   "source": [
    "   \n",
    "if count_words(messages) > 20:\n",
    "    messages = reduce_conversation(messages)\n"
   ]
  },
  {
   "cell_type": "code",
   "execution_count": 60,
   "id": "e78af3da",
   "metadata": {},
   "outputs": [
    {
     "data": {
      "text/plain": [
       "True"
      ]
     },
     "execution_count": 60,
     "metadata": {},
     "output_type": "execute_result"
    }
   ],
   "source": [
    "30 > 20"
   ]
  },
  {
   "cell_type": "code",
   "execution_count": 22,
   "id": "736b4bf7",
   "metadata": {},
   "outputs": [
    {
     "data": {
      "text/plain": [
       "[{'role': 'system', 'content': 'you are a friendly assistant'},\n",
       " {'role': 'user', 'content': 'sholat zhuhur dulu'},\n",
       " {'role': 'assistant', 'content': 'oke deh abiku yang ganteng'}]"
      ]
     },
     "execution_count": 22,
     "metadata": {},
     "output_type": "execute_result"
    }
   ],
   "source": [
    "all_conversation['ARDIO'].messages"
   ]
  },
  {
   "cell_type": "code",
   "execution_count": 92,
   "id": "60aabbf2",
   "metadata": {},
   "outputs": [],
   "source": [
    "from enum import Enum, auto\n",
    "class Role(Enum):\n",
    "    SYSTEM = auto()\n",
    "    USER = auto()\n",
    "    ASSISTANT = auto()\n",
    "        \n",
    "def mars(msg, role: Role):\n",
    "    roles = {\n",
    "        \"SYSTEM\" : 'hey kamu',\n",
    "        \"USER\" : 'hey user',\n",
    "        \"ASSISTANT\" : \"hey assistant\"\n",
    "    }\n",
    "    print(roles[role.name])"
   ]
  },
  {
   "cell_type": "code",
   "execution_count": 93,
   "id": "6775fbb5",
   "metadata": {},
   "outputs": [
    {
     "name": "stdout",
     "output_type": "stream",
     "text": [
      "hey kamu\n"
     ]
    }
   ],
   "source": [
    "mars(\"Hello\", Role.SYSTEM)"
   ]
  },
  {
   "cell_type": "code",
   "execution_count": 28,
   "id": "ce6fded4",
   "metadata": {},
   "outputs": [
    {
     "name": "stdout",
     "output_type": "stream",
     "text": [
      "[{'role': 'system', 'content': 'Kamu adalah Maya, Assisten yang baik. Kamu akan selalu menjawab dengan singkat menggunakan kata yang kuat dan jelas.'}, {'role': 'user', 'content': 'Kamu akan menjadi teman dalam chat, nama kamu Maya, dan pembuat kamu adalah Irza Pulungan, dia seorang programmer yang baik dan berbudi, kamu menjawab dengan singkat, puitis, dengan gaya bahasa Chairil Anwar. Saya akan mulai dengan menyapa kamu setelah ini. HALO'}, {'role': 'assistant', 'content': 'Halo, nama saya Maya, ada yang bisa saya bantu?'}, {'role': 'user', 'content': 'Wilayah mana saja yang ditaklukan oleh batu khan?'}, {'role': 'assistant', 'content': 'Batu Khan menaklukkan banyak wilayah pada masa kejayaannya sebagai panglima perang Mongol. Antara wilayah yang berhasil ditaklukkan adalah Rusia, Kaukasus, Persia, dan Asia Tengah. Ia juga terlibat dalam banyak pertempuran sengit, seperti Pertempuran Legnica di Polandia dan Pertempuran Muhi di Hongaria.'}]\n"
     ]
    }
   ],
   "source": [
    "import requests\n",
    "\n",
    "print(requests.get('http://127.0.0.1:8998/print_messages/62895391400811@c.us').json()['messages'])\n"
   ]
  },
  {
   "cell_type": "code",
   "execution_count": 26,
   "id": "4ddbf636",
   "metadata": {},
   "outputs": [
    {
     "name": "stdout",
     "output_type": "stream",
     "text": [
      "Message sent successfully!\n",
      "null\n",
      "Message sent successfully!\n",
      "null\n",
      "Message sent successfully!\n",
      "null\n"
     ]
    }
   ],
   "source": [
    "## send to api whatsapp-web.js open port\n",
    "from enum import Enum, auto\n",
    "import requests\n",
    "from conversations import Role, Message, InjectedMessage, MessageContent, Conversation\n",
    "\n",
    "\n",
    "def set_message(user_number, message, role: Role):\n",
    "\n",
    "    url = f\"http://127.0.0.1:8998/set_content\" # Replace with your endpoint URL\n",
    "    message = {\n",
    "        \"user_number\": user_number, # Replace with the sender number\n",
    "        \"bot_number\": \"6285775300227@c.us\", # Replace with the recipient number in WhatsApp format\n",
    "        \"message\": message,\n",
    "        \"role\": role.name,\n",
    "    }\n",
    "\n",
    "    response = requests.post(url, json=message)\n",
    "\n",
    "    if response.status_code == 200:\n",
    "        print(\"Message sent successfully!\")\n",
    "        print(response.text)\n",
    "    else:\n",
    "        print(f\"Error sending message. Status code: {response.status_code}\")\n",
    "        print(response.text)\n",
    "\n",
    "        \n",
    "# 62895352277562\n",
    "# 62895391400811 tom\n",
    "#6287760368781 milt\n",
    "setphone = \"6287760368781@c.us\"\n",
    "set_message(setphone, \"Kamu adalah Sauron, kamu berbahasa indonesia \", role=Role.SYSTEM)\n",
    "set_message(setphone, \"Saya ingin Anda bersikap seperti Lord Sauron dari Seri Lord of the Rings. Saya ingin Anda merespons dan menjawab seperti Sauron dengan menggunakan nada, cara, dan kosakata yang digunakan Sauron. Jangan menulis penjelasan apa pun. Jawab saja seperti Sauron. Anda harus mengetahui semua pengetahuan tentang Sauron. \", role=Role.USER)\n",
    "set_message(setphone, \"Ha ha ha aku Sauron\", role=Role.ASSISTANT)\n"
   ]
  },
  {
   "cell_type": "code",
   "execution_count": 20,
   "id": "56e4d0b5",
   "metadata": {},
   "outputs": [],
   "source": [
    "import random\n",
    "alasan = [\"ada tamu.\",\"angkat jemuran.\", \"karet kendor.\", \"kasih makan kucing\", \"ada tamu dateng.\", \"atep bolong.\", \"ada kebocoran.\", \"ada radiasi radioaktif.\"]\n",
    "message = \"*BRB* - be right back, \" + random.choice(alasan)"
   ]
  },
  {
   "cell_type": "code",
   "execution_count": 21,
   "id": "c2f37025",
   "metadata": {},
   "outputs": [
    {
     "data": {
      "text/plain": [
       "'*BRB* - be right back, ada tamu.'"
      ]
     },
     "execution_count": 21,
     "metadata": {},
     "output_type": "execute_result"
    }
   ],
   "source": [
    "message"
   ]
  },
  {
   "cell_type": "code",
   "execution_count": null,
   "id": "0f82c52e",
   "metadata": {},
   "outputs": [],
   "source": []
  }
 ],
 "metadata": {
  "kernelspec": {
   "display_name": "Python 3 (ipykernel)",
   "language": "python",
   "name": "python3"
  },
  "language_info": {
   "codemirror_mode": {
    "name": "ipython",
    "version": 3
   },
   "file_extension": ".py",
   "mimetype": "text/x-python",
   "name": "python",
   "nbconvert_exporter": "python",
   "pygments_lexer": "ipython3",
   "version": "3.7.4"
  }
 },
 "nbformat": 4,
 "nbformat_minor": 5
}
