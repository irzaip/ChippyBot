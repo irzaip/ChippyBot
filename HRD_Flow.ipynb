{
 "cells": [
  {
   "cell_type": "code",
   "execution_count": 1,
   "id": "ca501c73",
   "metadata": {},
   "outputs": [],
   "source": [
    "from abc import ABC, abstractmethod\n",
    "from dataclasses import dataclass\n",
    "from string import Template\n",
    "import os\n",
    "import openai\n",
    "import nltk\n",
    "import requests\n",
    "import ast\n",
    "from conversations import BotQuestion, ConvMode, Script\n",
    "import json\n",
    "import requests\n",
    "from typing import List\n",
    "\n",
    "openai.api_key = os.environ[\"OPENAI_API_KEY\"]\n"
   ]
  },
  {
   "cell_type": "code",
   "execution_count": null,
   "id": "76fa41f3",
   "metadata": {},
   "outputs": [],
   "source": []
  },
  {
   "cell_type": "markdown",
   "id": "e04108e9",
   "metadata": {},
   "source": [
    "## HELPER FUNCTIONS"
   ]
  },
  {
   "cell_type": "code",
   "execution_count": 2,
   "id": "fceb6731",
   "metadata": {},
   "outputs": [],
   "source": [
    "def merge_dicts(dict1, dict2):\n",
    "    \"\"\"menggabungkan dua dictionaries dan keynya di combine jadi integer\"\"\"\n",
    "    merged_dict = {}\n",
    "    i = 1\n",
    "    for key in sorted(dict1.keys(), key=int):\n",
    "        merged_dict[i] = dict1[key]\n",
    "        i += 1\n",
    "\n",
    "    for key in sorted(dict2.keys(), key=int):\n",
    "        merged_dict[i] = dict2[key]\n",
    "        i += 1\n",
    "\n",
    "    return merged_dict"
   ]
  },
  {
   "cell_type": "markdown",
   "id": "eac38a17",
   "metadata": {},
   "source": [
    "## CUSTOM PROMPT"
   ]
  },
  {
   "cell_type": "code",
   "execution_count": 3,
   "id": "244548d6",
   "metadata": {},
   "outputs": [],
   "source": [
    "prompt = Template(\"\"\"\n",
    "    Jawab secara singkat, \\n \n",
    "    \n",
    "    $pertanyaan \n",
    "    \n",
    "    buat jawaban dalam bentuk JSON seperti contoh ini:\n",
    "    \n",
    "    {\n",
    "    'pertanyaan' : '..',\n",
    "    'jawaban' : '..'\n",
    "    }\n",
    "    \n",
    "    tampilkan hanya JSON saja.\n",
    "    \"\"\")\n"
   ]
  },
  {
   "cell_type": "code",
   "execution_count": 4,
   "id": "a75b33dd",
   "metadata": {},
   "outputs": [
    {
     "name": "stdout",
     "output_type": "stream",
     "text": [
      "['administrative function.', 'Positive working attitude.', 'Good communication skills', 'Self motivated and able to work independently with minimum supervision.', 'Computer literate and good command of written and spoken English, Chinese and Malay', 'Pleasant & polite, with initiative and commited with strong sense of responsibility', 'Basic Health knowledge will be an added advantage']\n"
     ]
    }
   ],
   "source": [
    "kebutuhan = \"\"\"\n",
    "administrative function.\n",
    "Positive working attitude.\n",
    "Good communication skills\n",
    "Self motivated and able to work independently with minimum supervision.\n",
    "Computer literate and good command of written and spoken English, Chinese and Malay\n",
    "Pleasant & polite, with initiative and commited with strong sense of responsibility\n",
    "Basic Health knowledge will be an added advantage\n",
    "\"\"\"\n",
    "\n",
    "kebutuhan_kompetensi = kebutuhan.split('\\n')\n",
    "kebutuhan_kompetensi = [x for x in kebutuhan_kompetensi if x != \"\"]\n",
    "print(kebutuhan_kompetensi)"
   ]
  },
  {
   "cell_type": "code",
   "execution_count": 5,
   "id": "9c38a1b3",
   "metadata": {},
   "outputs": [],
   "source": [
    "template_buat_pertanyaan = Template(\"\"\"\n",
    "gpt Kamu adalah pewawancara pencari kerja yang sangat teliti. \n",
    "Buatkan Beberapa Pertanyaan dalam bahasa indonesia untuk menggali pelamar kerja tentang hal-hal seputar kompetensi dibawah ini:\n",
    "\n",
    "Kebutuhan Kompetensi: $kebutuhan_kompetensi\n",
    "\n",
    "Kamu akan menjawab dalam format JSON dalam bentuk seperti contoh ini:\n",
    "    \n",
    "{\n",
    "    '1' : 'Pertanyaan 1 ..',\n",
    "    '2' : 'Pertanyaan 2 ..',\n",
    "    '3' : 'Pertanyaan 3 ..',\n",
    "    '4' : 'Pertanyaan 4 ..',\n",
    "}\n",
    "\n",
    "Berikan jawaban kamu hanya dalam bentuk JSON saja, tanpa menggunakan keterangan.\n",
    "\"\"\")\n"
   ]
  },
  {
   "cell_type": "code",
   "execution_count": 6,
   "id": "5be0a793",
   "metadata": {},
   "outputs": [],
   "source": [
    "tmpl = template_buat_pertanyaan.substitute({'kebutuhan_kompetensi' : kebutuhan_kompetensi[2]})"
   ]
  },
  {
   "cell_type": "code",
   "execution_count": 7,
   "id": "40121305",
   "metadata": {},
   "outputs": [],
   "source": [
    "from dataclasses import dataclass\n",
    "from string import Template\n",
    "\n",
    "@dataclass\n",
    "class Sys_Message:\n",
    "    role_system: str = \"kamu adalah asisten yang ramah dan membantu.\"\n",
    "    role_user: str = \"jawab dengan singkat\"\n",
    "    role_assistant: str = \"Hallo, ada yang bisa saya bantu?\"\n",
    "\n",
    "\n",
    "def custom_gpt(sys_msg: Sys_Message, prompt: str) -> str:\n",
    "    \n",
    "    messages = []\n",
    "    messages.append({'role' : 'system', 'content' : sys_msg.role_system})\n",
    "    messages.append({'role' : 'user', 'content' : sys_msg.role_user})\n",
    "    messages.append({'role' : 'assistant' , 'content' : sys_msg.role_assistant})   \n",
    "    messages.append({'role': 'user', 'content' : prompt})\n",
    "    \n",
    "    response = openai.ChatCompletion.create(\n",
    "      model=\"gpt-3.5-turbo\",\n",
    "      messages=messages,\n",
    "#      max_tokens=1024,\n",
    "#      n=1,\n",
    "#      stop=None,\n",
    "      temperature=0.3,\n",
    "    )\n",
    "\n",
    "    message = response.choices[0].message.content\n",
    "    messages.append({\"role\" : \"assistant\", \"content\" : message})\n",
    "    #print(messages)\n",
    "    return message\n",
    "\n",
    "instruction = Sys_Message(\n",
    "    \"\"\"kamu adalah assisten yang baik\n",
    "        kamu akan menjawab selalu dalam format JSON,\n",
    "    \"\"\",\n",
    "    \"\"\"\n",
    "    Kamu adalah asisten yang pandai dan bisa memformat hasil akhir.\n",
    "    \"\"\"    \n",
    "    ,\n",
    "    \"Hallo, nama saya Maya\",\n",
    ")\n",
    "\n",
    "#jawaban = ast.literal_eval(custom_gpt(instruction, tmpl))\n",
    "#print(jawaban)\n",
    "#kumpulan_pertanyaan = merge_dicts(kumpulan_pertanyaan, jawaban)"
   ]
  },
  {
   "cell_type": "code",
   "execution_count": 8,
   "id": "07a51ffe",
   "metadata": {},
   "outputs": [],
   "source": [
    "#kumpulan_pertanyaan"
   ]
  },
  {
   "cell_type": "markdown",
   "id": "9d6be5f4",
   "metadata": {},
   "source": [
    " 5: 'Seberapa familiar Anda dengan konsep kesehatan dasar?',\n",
    " 6: 'Bagaimana Anda memperoleh pengetahuan tentang kesehatan dasar?',\n",
    " 7: 'Dapatkah Anda memberikan contoh situasi di mana pengetahuan kesehatan dasar sangat diperlukan?',\n",
    " 8: 'Bagaimana Anda berencana untuk meningkatkan pengetahuan Anda tentang kesehatan dasar jika Anda diterima di perusahaan ini?',\n",
    " 9: 'Bagaimana kamu biasanya berkomunikasi dengan rekan kerja atau atasanmu?',\n",
    " 10: 'Bagaimana cara kamu menangani situasi di mana kamu harus berkomunikasi dengan seseorang yang sulit diajak berbicara?',\n",
    " 11: 'Bagaimana kamu memastikan bahwa pesan yang kamu sampaikan kepada orang lain dipahami dengan baik?',\n",
    " 12: 'Bagaimana kamu menangani situasi di mana ada kesalahpahaman dalam komunikasi dengan rekan kerja atau atasanmu?'"
   ]
  },
  {
   "cell_type": "markdown",
   "id": "d510bde8",
   "metadata": {},
   "source": [
    "## FORCED"
   ]
  },
  {
   "cell_type": "code",
   "execution_count": 9,
   "id": "ddcd04b7",
   "metadata": {},
   "outputs": [],
   "source": [
    "kumpulan_pertanyaan = {0: 'Bagaimana cara Anda memotivasi diri sendiri ketika bekerja secara mandiri?',\n",
    " 1: 'Apakah Anda pernah bekerja secara mandiri sebelumnya? Jika ya, ceritakan pengalaman Anda dan bagaimana Anda menghadapi tantangan tersebut.',\n",
    " 2: 'Bagaimana Anda mengatur waktu dan prioritas ketika bekerja secara mandiri?',\n",
    " 3: 'Bagaimana Anda menyelesaikan tugas yang sulit atau kompleks ketika tidak ada orang lain yang bisa membantu?',\n",
    "}"
   ]
  },
  {
   "cell_type": "markdown",
   "id": "3d4d40e8",
   "metadata": {},
   "source": [
    "## PUT QUESTION TO BOT"
   ]
  },
  {
   "cell_type": "code",
   "execution_count": 10,
   "id": "a350a593",
   "metadata": {},
   "outputs": [
    {
     "name": "stdout",
     "output_type": "stream",
     "text": [
      "[{\"id\": 0, \"question\": \"Bagaimana cara Anda memotivasi diri sendiri ketika bekerja secara mandiri?\", \"answer\": \"\", \"multiplier\": 1, \"score\": 1}, {\"id\": 1, \"question\": \"Apakah Anda pernah bekerja secara mandiri sebelumnya? Jika ya, ceritakan pengalaman Anda dan bagaimana Anda menghadapi tantangan tersebut.\", \"answer\": \"\", \"multiplier\": 1, \"score\": 1}, {\"id\": 2, \"question\": \"Bagaimana Anda mengatur waktu dan prioritas ketika bekerja secara mandiri?\", \"answer\": \"\", \"multiplier\": 1, \"score\": 1}, {\"id\": 3, \"question\": \"Bagaimana Anda menyelesaikan tugas yang sulit atau kompleks ketika tidak ada orang lain yang bisa membantu?\", \"answer\": \"\", \"multiplier\": 1, \"score\": 1}]\n",
      "Data berhasil dikirim!\n"
     ]
    }
   ],
   "source": [
    "def make_botquestion(all_question: dict) -> List[BotQuestion]:\n",
    "    result = []\n",
    "    for key,value in all_question.items():\n",
    "        result.append(BotQuestion(id=key, question=value))\n",
    "    return result\n",
    "\n",
    "\n",
    "\n",
    "botquestion = make_botquestion(kumpulan_pertanyaan)\n",
    "user_number = \"62895352277562@c.us\"\n",
    "\n",
    "# 62895352277562\n",
    "# 62895391400811 tom\n",
    "# 6287760368781 milt\n",
    "\n",
    "# Mengirim data melalui REST API\n",
    "url = f'http://localhost:8998/botquestion/{user_number}'\n",
    "headers = {'Content-type': 'application/json'}\n",
    "data = json.dumps([{'id': b.id, \n",
    "                    'question': b.question, \n",
    "                    'answer': b.answer, \n",
    "                    'multiplier': b.multiplier, \n",
    "                    'score': b.score} for b in botquestion])\n",
    "print(data)\n",
    "response = requests.put(url, headers=headers, data=data)\n",
    "\n",
    "# Menampilkan respons dari server\n",
    "if response.status_code == 200:\n",
    "    print('Data berhasil dikirim!')\n",
    "else:\n",
    "    print('Terjadi kesalahan saat mengirim data.')\n",
    "\n",
    "    "
   ]
  },
  {
   "cell_type": "code",
   "execution_count": 11,
   "id": "eebca5b5",
   "metadata": {},
   "outputs": [],
   "source": [
    "group_number = \"120363149813038443@g.us\""
   ]
  },
  {
   "cell_type": "code",
   "execution_count": 12,
   "id": "a47207e2",
   "metadata": {
    "scrolled": false
   },
   "outputs": [
    {
     "name": "stdout",
     "output_type": "stream",
     "text": [
      "{'message': 'ConvMode.CHITCHAT'}\n"
     ]
    }
   ],
   "source": [
    "print(requests.get(f'http://localhost:8998/getmode/{user_number}').json())"
   ]
  },
  {
   "cell_type": "code",
   "execution_count": 13,
   "id": "204e3e48",
   "metadata": {},
   "outputs": [
    {
     "name": "stdout",
     "output_type": "stream",
     "text": [
      "<Response [200]>\n"
     ]
    }
   ],
   "source": [
    "convmode = ConvMode.ASK\n",
    "print(requests.get(f'http://localhost:8998/convmode/{user_number}/{convmode}'))"
   ]
  },
  {
   "cell_type": "markdown",
   "id": "da5fd03c",
   "metadata": {},
   "source": [
    "## jalankan pertanyaan nomor"
   ]
  },
  {
   "cell_type": "code",
   "execution_count": 14,
   "id": "ff7dc24d",
   "metadata": {},
   "outputs": [],
   "source": [
    "#jalankan question 1\n",
    "#print(requests.get(f'http://localhost:8998/run_question/{user_number}/1'))"
   ]
  },
  {
   "cell_type": "code",
   "execution_count": 15,
   "id": "098996d7",
   "metadata": {},
   "outputs": [
    {
     "name": "stdout",
     "output_type": "stream",
     "text": [
      "<Response [200]>\n"
     ]
    }
   ],
   "source": [
    "script = Script.INTERVIEW\n",
    "print(requests.get(f'http://localhost:8998/set_script/{user_number}/{script}'))"
   ]
  },
  {
   "cell_type": "code",
   "execution_count": 16,
   "id": "a25d612d",
   "metadata": {},
   "outputs": [
    {
     "name": "stdout",
     "output_type": "stream",
     "text": [
      "<Response [200]>\n"
     ]
    }
   ],
   "source": [
    "print(requests.get(f'http://localhost:8998/start_question/{user_number}'))"
   ]
  },
  {
   "cell_type": "code",
   "execution_count": 17,
   "id": "ef6684ca",
   "metadata": {
    "scrolled": true
   },
   "outputs": [
    {
     "name": "stdout",
     "output_type": "stream",
     "text": [
      "{'message': 'sudah di set menjadi 600'}\n"
     ]
    }
   ],
   "source": [
    "print(requests.put(f'http://localhost:8998/interval/{user_number}/600').json())"
   ]
  },
  {
   "cell_type": "code",
   "execution_count": 18,
   "id": "81991e32",
   "metadata": {},
   "outputs": [],
   "source": [
    "#print(requests.get(f'http://localhost:8998/call_method').json())"
   ]
  },
  {
   "cell_type": "code",
   "execution_count": 19,
   "id": "5628c0c1",
   "metadata": {
    "scrolled": true
   },
   "outputs": [
    {
     "name": "stdout",
     "output_type": "stream",
     "text": [
      "{'message': 'Bagaimana cara Anda memotivasi diri sendiri ketika bekerja secara mandiri?:\\nApakah Anda pernah bekerja secara mandiri sebelumnya? Jika ya, ceritakan pengalaman Anda dan bagaimana Anda menghadapi tantangan tersebut.:\\nBagaimana Anda mengatur waktu dan prioritas ketika bekerja secara mandiri?:\\nBagaimana Anda menyelesaikan tugas yang sulit atau kompleks ketika tidak ada orang lain yang bisa membantu?:\\n'}\n"
     ]
    }
   ],
   "source": [
    "print(requests.get(f'http://localhost:8998/botquestions/{user_number}').json())"
   ]
  },
  {
   "cell_type": "code",
   "execution_count": 20,
   "id": "b170382b",
   "metadata": {
    "scrolled": true
   },
   "outputs": [
    {
     "name": "stdout",
     "output_type": "stream",
     "text": [
      "{'message': {'botquestions': [{'id': 0, 'question': 'Bagaimana cara Anda memotivasi diri sendiri ketika bekerja secara mandiri?', 'answer': '', 'metadata': '', 'koherensi': 1, 'multiplier': 1, 'score': 1}, {'id': 1, 'question': 'Apakah Anda pernah bekerja secara mandiri sebelumnya? Jika ya, ceritakan pengalaman Anda dan bagaimana Anda menghadapi tantangan tersebut.', 'answer': '', 'metadata': '', 'koherensi': 1, 'multiplier': 1, 'score': 1}, {'id': 2, 'question': 'Bagaimana Anda mengatur waktu dan prioritas ketika bekerja secara mandiri?', 'answer': '', 'metadata': '', 'koherensi': 1, 'multiplier': 1, 'score': 1}, {'id': 3, 'question': 'Bagaimana Anda menyelesaikan tugas yang sulit atau kompleks ketika tidak ada orang lain yang bisa membantu?', 'answer': '', 'metadata': '', 'koherensi': 1, 'multiplier': 1, 'score': 1}], 'interval': 600, 'mode': '2', 'wait_time': 0, 'max_token': 4192, 'word_limit': 1000, 'temperature': 0.7}}\n"
     ]
    }
   ],
   "source": [
    "print(requests.get(f'http://localhost:8998/obj_info/{user_number}').json())"
   ]
  },
  {
   "cell_type": "code",
   "execution_count": null,
   "id": "e4714f38",
   "metadata": {},
   "outputs": [],
   "source": []
  }
 ],
 "metadata": {
  "kernelspec": {
   "display_name": "Python 3 (ipykernel)",
   "language": "python",
   "name": "python3"
  },
  "language_info": {
   "codemirror_mode": {
    "name": "ipython",
    "version": 3
   },
   "file_extension": ".py",
   "mimetype": "text/x-python",
   "name": "python",
   "nbconvert_exporter": "python",
   "pygments_lexer": "ipython3",
   "version": "3.7.4"
  }
 },
 "nbformat": 4,
 "nbformat_minor": 5
}
